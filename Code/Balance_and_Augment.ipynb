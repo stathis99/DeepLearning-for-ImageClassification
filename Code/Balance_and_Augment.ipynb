{
 "cells": [
  {
   "cell_type": "code",
   "execution_count": 5,
   "id": "fe830ffc-9a69-4951-a66f-f1ae483004af",
   "metadata": {},
   "outputs": [
    {
     "name": "stdout",
     "output_type": "stream",
     "text": [
      "Initialised with 25 image(s) found.\n",
      "Output directory set to train_images_inferred/train_images/69/train_images_inferred/train_images/69."
     ]
    },
    {
     "name": "stderr",
     "output_type": "stream",
     "text": [
      "Processing <PIL.Image.Image image mode=RGB size=500x333 at 0x14D652431FF0>: 100%|██████████| 25/25 [00:00<00:00, 404.11 Samples/s]                  \n"
     ]
    },
    {
     "name": "stdout",
     "output_type": "stream",
     "text": [
      "Initialised with 30 image(s) found.\n",
      "Output directory set to train_images_inferred/train_images/34/train_images_inferred/train_images/34."
     ]
    },
    {
     "name": "stderr",
     "output_type": "stream",
     "text": [
      "Processing <PIL.Image.Image image mode=RGB size=400x228 at 0x14D652432F80>: 100%|██████████| 20/20 [00:00<00:00, 392.98 Samples/s]\n"
     ]
    },
    {
     "name": "stdout",
     "output_type": "stream",
     "text": [
      "Initialised with 30 image(s) found.\n",
      "Output directory set to train_images_inferred/train_images/37/train_images_inferred/train_images/37."
     ]
    },
    {
     "name": "stderr",
     "output_type": "stream",
     "text": [
      "Processing <PIL.Image.Image image mode=RGB size=500x420 at 0x14D6528E0C10>: 100%|██████████| 20/20 [00:00<00:00, 428.70 Samples/s]\n"
     ]
    },
    {
     "name": "stdout",
     "output_type": "stream",
     "text": [
      "Initialised with 22 image(s) found.\n",
      "Output directory set to train_images_inferred/train_images/85/train_images_inferred/train_images/85."
     ]
    },
    {
     "name": "stderr",
     "output_type": "stream",
     "text": [
      "Processing <PIL.Image.Image image mode=RGB size=500x401 at 0x14D6528E1CC0>: 100%|██████████| 28/28 [00:00<00:00, 360.05 Samples/s]                  \n"
     ]
    },
    {
     "name": "stdout",
     "output_type": "stream",
     "text": [
      "Initialised with 23 image(s) found.\n",
      "Output directory set to train_images_inferred/train_images/80/train_images_inferred/train_images/80."
     ]
    },
    {
     "name": "stderr",
     "output_type": "stream",
     "text": [
      "Processing <PIL.Image.Image image mode=RGB size=500x333 at 0x14D6528E0CD0>: 100%|██████████| 27/27 [00:00<00:00, 420.07 Samples/s]                  \n"
     ]
    },
    {
     "name": "stdout",
     "output_type": "stream",
     "text": [
      "Initialised with 17 image(s) found.\n",
      "Output directory set to train_images_inferred/train_images/119/train_images_inferred/train_images/119."
     ]
    },
    {
     "name": "stderr",
     "output_type": "stream",
     "text": [
      "Processing <PIL.Image.Image image mode=RGB size=500x375 at 0x14D6528E2740>: 100%|██████████| 33/33 [00:00<00:00, 400.82 Samples/s]                  \n"
     ]
    },
    {
     "name": "stdout",
     "output_type": "stream",
     "text": [
      "Initialised with 11 image(s) found.\n",
      "Output directory set to train_images_inferred/train_images/157/train_images_inferred/train_images/157."
     ]
    },
    {
     "name": "stderr",
     "output_type": "stream",
     "text": [
      "Processing <PIL.Image.Image image mode=RGB size=500x370 at 0x14D652432050>: 100%|██████████| 39/39 [00:00<00:00, 425.91 Samples/s]                  \n"
     ]
    },
    {
     "name": "stdout",
     "output_type": "stream",
     "text": [
      "Initialised with 22 image(s) found.\n",
      "Output directory set to train_images_inferred/train_images/88/train_images_inferred/train_images/88."
     ]
    },
    {
     "name": "stderr",
     "output_type": "stream",
     "text": [
      "Processing <PIL.Image.Image image mode=RGB size=353x500 at 0x14D652433850>: 100%|██████████| 28/28 [00:00<00:00, 410.95 Samples/s]                  \n"
     ]
    },
    {
     "name": "stdout",
     "output_type": "stream",
     "text": [
      "Initialised with 5 image(s) found.\n",
      "Output directory set to train_images_inferred/train_images/199/train_images_inferred/train_images/199."
     ]
    },
    {
     "name": "stderr",
     "output_type": "stream",
     "text": [
      "Processing <PIL.Image.Image image mode=RGB size=500x398 at 0x14D65228BA30>: 100%|██████████| 45/45 [00:00<00:00, 388.01 Samples/s]                  \n"
     ]
    },
    {
     "name": "stdout",
     "output_type": "stream",
     "text": [
      "Initialised with 19 image(s) found.\n",
      "Output directory set to train_images_inferred/train_images/107/train_images_inferred/train_images/107."
     ]
    },
    {
     "name": "stderr",
     "output_type": "stream",
     "text": [
      "Processing <PIL.Image.Image image mode=RGB size=500x500 at 0x14D652432D40>: 100%|██████████| 31/31 [00:00<00:00, 395.82 Samples/s]                  \n"
     ]
    },
    {
     "name": "stdout",
     "output_type": "stream",
     "text": [
      "Initialised with 23 image(s) found.\n",
      "Output directory set to train_images_inferred/train_images/83/train_images_inferred/train_images/83."
     ]
    },
    {
     "name": "stderr",
     "output_type": "stream",
     "text": [
      "Processing <PIL.Image.Image image mode=RGB size=500x334 at 0x14D6528E1330>: 100%|██████████| 27/27 [00:00<00:00, 359.12 Samples/s]\n"
     ]
    },
    {
     "name": "stdout",
     "output_type": "stream",
     "text": [
      "Initialised with 20 image(s) found.\n",
      "Output directory set to train_images_inferred/train_images/103/train_images_inferred/train_images/103."
     ]
    },
    {
     "name": "stderr",
     "output_type": "stream",
     "text": [
      "Processing <PIL.Image.Image image mode=RGB size=500x334 at 0x14D652289AE0>: 100%|██████████| 30/30 [00:00<00:00, 378.98 Samples/s]\n"
     ]
    },
    {
     "name": "stdout",
     "output_type": "stream",
     "text": [
      "Initialised with 13 image(s) found.\n",
      "Output directory set to train_images_inferred/train_images/149/train_images_inferred/train_images/149."
     ]
    },
    {
     "name": "stderr",
     "output_type": "stream",
     "text": [
      "Processing <PIL.Image.Image image mode=RGB size=397x500 at 0x14D6528E3550>: 100%|██████████| 37/37 [00:00<00:00, 375.51 Samples/s]                  \n"
     ]
    },
    {
     "name": "stdout",
     "output_type": "stream",
     "text": [
      "Initialised with 27 image(s) found.\n",
      "Output directory set to train_images_inferred/train_images/53/train_images_inferred/train_images/53."
     ]
    },
    {
     "name": "stderr",
     "output_type": "stream",
     "text": [
      "Processing <PIL.Image.Image image mode=RGB size=500x340 at 0x14D65228A710>: 100%|██████████| 23/23 [00:00<00:00, 474.06 Samples/s]\n"
     ]
    },
    {
     "name": "stdout",
     "output_type": "stream",
     "text": [
      "Initialised with 13 image(s) found.\n",
      "Output directory set to train_images_inferred/train_images/145/train_images_inferred/train_images/145."
     ]
    },
    {
     "name": "stderr",
     "output_type": "stream",
     "text": [
      "Processing <PIL.Image.Image image mode=RGB size=500x246 at 0x14D652431E40>: 100%|██████████| 37/37 [00:00<00:00, 462.27 Samples/s]                  \n"
     ]
    },
    {
     "name": "stdout",
     "output_type": "stream",
     "text": [
      "Initialised with 7 image(s) found.\n",
      "Output directory set to train_images_inferred/train_images/187/train_images_inferred/train_images/187."
     ]
    },
    {
     "name": "stderr",
     "output_type": "stream",
     "text": [
      "Processing <PIL.Image.Image image mode=RGB size=500x412 at 0x14D6524323B0>: 100%|██████████| 43/43 [00:00<00:00, 519.17 Samples/s]                  \n"
     ]
    },
    {
     "name": "stdout",
     "output_type": "stream",
     "text": [
      "Initialised with 28 image(s) found.\n",
      "Output directory set to train_images_inferred/train_images/7/train_images_inferred/train_images/7."
     ]
    },
    {
     "name": "stderr",
     "output_type": "stream",
     "text": [
      "Processing <PIL.Image.Image image mode=RGB size=350x350 at 0x14D662C53460>: 100%|██████████| 22/22 [00:00<00:00, 372.30 Samples/s]\n"
     ]
    },
    {
     "name": "stdout",
     "output_type": "stream",
     "text": [
      "Initialised with 15 image(s) found.\n",
      "Output directory set to train_images_inferred/train_images/137/train_images_inferred/train_images/137."
     ]
    },
    {
     "name": "stderr",
     "output_type": "stream",
     "text": [
      "Processing <PIL.Image.Image image mode=RGB size=500x335 at 0x14D6528E1D50>: 100%|██████████| 35/35 [00:00<00:00, 379.08 Samples/s]\n"
     ]
    },
    {
     "name": "stdout",
     "output_type": "stream",
     "text": [
      "Initialised with 15 image(s) found.\n",
      "Output directory set to train_images_inferred/train_images/133/train_images_inferred/train_images/133."
     ]
    },
    {
     "name": "stderr",
     "output_type": "stream",
     "text": [
      "Processing <PIL.Image.Image image mode=RGB size=500x375 at 0x14D652433520>: 100%|██████████| 35/35 [00:00<00:00, 442.79 Samples/s]                  \n"
     ]
    },
    {
     "name": "stdout",
     "output_type": "stream",
     "text": [
      "Initialised with 27 image(s) found.\n",
      "Output directory set to train_images_inferred/train_images/56/train_images_inferred/train_images/56."
     ]
    },
    {
     "name": "stderr",
     "output_type": "stream",
     "text": [
      "Processing <PIL.Image.Image image mode=RGB size=408x500 at 0x14D6528E1330>: 100%|██████████| 23/23 [00:00<00:00, 389.39 Samples/s]                 \n"
     ]
    },
    {
     "name": "stdout",
     "output_type": "stream",
     "text": [
      "Initialised with 9 image(s) found.\n",
      "Output directory set to train_images_inferred/train_images/175/train_images_inferred/train_images/175."
     ]
    },
    {
     "name": "stderr",
     "output_type": "stream",
     "text": [
      "Processing <PIL.Image.Image image mode=RGB size=320x281 at 0x14D6528E0C70>: 100%|██████████| 41/41 [00:00<00:00, 578.20 Samples/s]                  \n"
     ]
    },
    {
     "name": "stdout",
     "output_type": "stream",
     "text": [
      "Initialised with 9 image(s) found.\n",
      "Output directory set to train_images_inferred/train_images/171/train_images_inferred/train_images/171."
     ]
    },
    {
     "name": "stderr",
     "output_type": "stream",
     "text": [
      "Processing <PIL.Image.Image image mode=RGB size=500x335 at 0x14D6528E3490>: 100%|██████████| 41/41 [00:00<00:00, 417.33 Samples/s]                  \n"
     ]
    },
    {
     "name": "stdout",
     "output_type": "stream",
     "text": [
      "Initialised with 27 image(s) found.\n",
      "Output directory set to train_images_inferred/train_images/51/train_images_inferred/train_images/51."
     ]
    },
    {
     "name": "stderr",
     "output_type": "stream",
     "text": [
      "Processing <PIL.Image.Image image mode=RGB size=500x333 at 0x14D65228A890>: 100%|██████████| 23/23 [00:00<00:00, 485.24 Samples/s]                 \n"
     ]
    },
    {
     "name": "stdout",
     "output_type": "stream",
     "text": [
      "Initialised with 16 image(s) found.\n",
      "Output directory set to train_images_inferred/train_images/125/train_images_inferred/train_images/125."
     ]
    },
    {
     "name": "stderr",
     "output_type": "stream",
     "text": [
      "Processing <PIL.Image.Image image mode=RGB size=500x333 at 0x14D6528E13F0>: 100%|██████████| 34/34 [00:00<00:00, 418.31 Samples/s]\n"
     ]
    },
    {
     "name": "stdout",
     "output_type": "stream",
     "text": [
      "Initialised with 32 image(s) found.\n",
      "Output directory set to train_images_inferred/train_images/21/train_images_inferred/train_images/21."
     ]
    },
    {
     "name": "stderr",
     "output_type": "stream",
     "text": [
      "Processing <PIL.Image.Image image mode=RGB size=500x321 at 0x14D652432740>: 100%|██████████| 18/18 [00:00<00:00, 394.54 Samples/s]                  \n"
     ]
    },
    {
     "name": "stdout",
     "output_type": "stream",
     "text": [
      "Initialised with 17 image(s) found.\n",
      "Output directory set to train_images_inferred/train_images/121/train_images_inferred/train_images/121."
     ]
    },
    {
     "name": "stderr",
     "output_type": "stream",
     "text": [
      "Processing <PIL.Image.Image image mode=RGB size=500x375 at 0x14D6528E0CD0>: 100%|██████████| 33/33 [00:00<00:00, 397.73 Samples/s]                  \n"
     ]
    },
    {
     "name": "stdout",
     "output_type": "stream",
     "text": [
      "Initialised with 11 image(s) found.\n",
      "Output directory set to train_images_inferred/train_images/163/train_images_inferred/train_images/163."
     ]
    },
    {
     "name": "stderr",
     "output_type": "stream",
     "text": [
      "Processing <PIL.Image.Image image mode=RGB size=500x440 at 0x14D6528E2530>: 100%|██████████| 39/39 [00:00<00:00, 393.58 Samples/s]                  \n"
     ]
    },
    {
     "name": "stdout",
     "output_type": "stream",
     "text": [
      "Initialised with 26 image(s) found.\n",
      "Output directory set to train_images_inferred/train_images/59/train_images_inferred/train_images/59."
     ]
    },
    {
     "name": "stderr",
     "output_type": "stream",
     "text": [
      "Processing <PIL.Image.Image image mode=RGB size=500x375 at 0x14D6600DCB20>: 100%|██████████| 24/24 [00:00<00:00, 248.85 Samples/s]                  \n"
     ]
    },
    {
     "name": "stdout",
     "output_type": "stream",
     "text": [
      "Initialised with 27 image(s) found.\n",
      "Output directory set to train_images_inferred/train_images/24/train_images_inferred/train_images/24."
     ]
    },
    {
     "name": "stderr",
     "output_type": "stream",
     "text": [
      "Processing <PIL.Image.Image image mode=RGB size=360x430 at 0x14D679206A40>: 100%|██████████| 23/23 [00:00<00:00, 526.75 Samples/s]\n"
     ]
    },
    {
     "name": "stdout",
     "output_type": "stream",
     "text": [
      "Initialised with 12 image(s) found.\n",
      "Output directory set to train_images_inferred/train_images/151/train_images_inferred/train_images/151."
     ]
    },
    {
     "name": "stderr",
     "output_type": "stream",
     "text": [
      "Processing <PIL.Image.Image image mode=RGB size=500x356 at 0x14D6528E1DB0>: 100%|██████████| 38/38 [00:00<00:00, 532.47 Samples/s]                  \n"
     ]
    },
    {
     "name": "stdout",
     "output_type": "stream",
     "text": [
      "Initialised with 31 image(s) found.\n",
      "Output directory set to train_images_inferred/train_images/27/train_images_inferred/train_images/27."
     ]
    },
    {
     "name": "stderr",
     "output_type": "stream",
     "text": [
      "Processing <PIL.Image.Image image mode=RGB size=500x375 at 0x14D6524325C0>: 100%|██████████| 19/19 [00:00<00:00, 401.50 Samples/s]                 \n"
     ]
    },
    {
     "name": "stdout",
     "output_type": "stream",
     "text": [
      "Initialised with 24 image(s) found.\n",
      "Output directory set to train_images_inferred/train_images/75/train_images_inferred/train_images/75."
     ]
    },
    {
     "name": "stderr",
     "output_type": "stream",
     "text": [
      "Processing <PIL.Image.Image image mode=RGB size=420x280 at 0x14D6528E1000>: 100%|██████████| 26/26 [00:00<00:00, 421.57 Samples/s]                  \n"
     ]
    },
    {
     "name": "stdout",
     "output_type": "stream",
     "text": [
      "Initialised with 25 image(s) found.\n",
      "Output directory set to train_images_inferred/train_images/70/train_images_inferred/train_images/70."
     ]
    },
    {
     "name": "stderr",
     "output_type": "stream",
     "text": [
      "Processing <PIL.Image.Image image mode=RGB size=444x500 at 0x14D662C52CE0>: 100%|██████████| 25/25 [00:00<00:00, 398.63 Samples/s]                  \n"
     ]
    },
    {
     "name": "stdout",
     "output_type": "stream",
     "text": [
      "Initialised with 23 image(s) found.\n",
      "Output directory set to train_images_inferred/train_images/78/train_images_inferred/train_images/78."
     ]
    },
    {
     "name": "stderr",
     "output_type": "stream",
     "text": [
      "Processing <PIL.Image.Image image mode=RGB size=500x333 at 0x14D662C534C0>: 100%|██████████| 27/27 [00:00<00:00, 449.04 Samples/s]\n"
     ]
    },
    {
     "name": "stdout",
     "output_type": "stream",
     "text": [
      "Initialised with 24 image(s) found.\n",
      "Output directory set to train_images_inferred/train_images/73/train_images_inferred/train_images/73."
     ]
    },
    {
     "name": "stderr",
     "output_type": "stream",
     "text": [
      "Processing <PIL.Image.Image image mode=RGB size=500x393 at 0x14D652913F10>: 100%|██████████| 26/26 [00:00<00:00, 278.21 Samples/s]\n"
     ]
    },
    {
     "name": "stdout",
     "output_type": "stream",
     "text": [
      "Initialised with 29 image(s) found.\n",
      "Output directory set to train_images_inferred/train_images/43/train_images_inferred/train_images/43."
     ]
    },
    {
     "name": "stderr",
     "output_type": "stream",
     "text": [
      "Processing <PIL.Image.Image image mode=RGB size=447x500 at 0x14D6528E2920>: 100%|██████████| 21/21 [00:00<00:00, 449.51 Samples/s]\n"
     ]
    },
    {
     "name": "stdout",
     "output_type": "stream",
     "text": [
      "Initialised with 16 image(s) found.\n",
      "Output directory set to train_images_inferred/train_images/6/train_images_inferred/train_images/6."
     ]
    },
    {
     "name": "stderr",
     "output_type": "stream",
     "text": [
      "Processing <PIL.Image.Image image mode=RGB size=271x404 at 0x14D6528E2740>: 100%|██████████| 34/34 [00:00<00:00, 643.99 Samples/s]                  \n"
     ]
    },
    {
     "name": "stdout",
     "output_type": "stream",
     "text": [
      "Initialised with 33 image(s) found.\n",
      "Output directory set to train_images_inferred/train_images/3/train_images_inferred/train_images/3."
     ]
    },
    {
     "name": "stderr",
     "output_type": "stream",
     "text": [
      "Processing <PIL.Image.Image image mode=RGB size=480x360 at 0x14D6524336D0>: 100%|██████████| 17/17 [00:00<00:00, 472.07 Samples/s]\n"
     ]
    },
    {
     "name": "stdout",
     "output_type": "stream",
     "text": [
      "Initialised with 19 image(s) found.\n",
      "Output directory set to train_images_inferred/train_images/108/train_images_inferred/train_images/108."
     ]
    },
    {
     "name": "stderr",
     "output_type": "stream",
     "text": [
      "Processing <PIL.Image.Image image mode=RGB size=324x500 at 0x14D6528A5030>: 100%|██████████| 31/31 [00:00<00:00, 570.41 Samples/s]\n"
     ]
    },
    {
     "name": "stdout",
     "output_type": "stream",
     "text": [
      "Initialised with 28 image(s) found.\n",
      "Output directory set to train_images_inferred/train_images/46/train_images_inferred/train_images/46."
     ]
    },
    {
     "name": "stderr",
     "output_type": "stream",
     "text": [
      "Processing <PIL.Image.Image image mode=RGB size=500x375 at 0x14D6528E2B30>: 100%|██████████| 22/22 [00:00<00:00, 392.46 Samples/s]\n"
     ]
    },
    {
     "name": "stdout",
     "output_type": "stream",
     "text": [
      "Initialised with 13 image(s) found.\n",
      "Output directory set to train_images_inferred/train_images/146/train_images_inferred/train_images/146."
     ]
    },
    {
     "name": "stderr",
     "output_type": "stream",
     "text": [
      "Processing <PIL.Image.Image image mode=RGB size=500x336 at 0x14D6528A5360>: 100%|██████████| 37/37 [00:00<00:00, 462.78 Samples/s]                  \n"
     ]
    },
    {
     "name": "stdout",
     "output_type": "stream",
     "text": [
      "Initialised with 7 image(s) found.\n",
      "Output directory set to train_images_inferred/train_images/188/train_images_inferred/train_images/188."
     ]
    },
    {
     "name": "stderr",
     "output_type": "stream",
     "text": [
      "Processing <PIL.Image.Image image mode=RGB size=500x375 at 0x14D6528E2980>: 100%|██████████| 43/43 [00:00<00:00, 370.76 Samples/s]\n"
     ]
    },
    {
     "name": "stdout",
     "output_type": "stream",
     "text": [
      "Initialised with 29 image(s) found.\n",
      "Output directory set to train_images_inferred/train_images/41/train_images_inferred/train_images/41."
     ]
    },
    {
     "name": "stderr",
     "output_type": "stream",
     "text": [
      "Processing <PIL.Image.Image image mode=RGB size=500x332 at 0x14D662C535B0>: 100%|██████████| 21/21 [00:00<00:00, 467.45 Samples/s]                 \n"
     ]
    },
    {
     "name": "stdout",
     "output_type": "stream",
     "text": [
      "Initialised with 33 image(s) found.\n",
      "Output directory set to train_images_inferred/train_images/11/train_images_inferred/train_images/11."
     ]
    },
    {
     "name": "stderr",
     "output_type": "stream",
     "text": [
      "Processing <PIL.Image.Image image mode=RGB size=500x423 at 0x14D6528A4FA0>: 100%|██████████| 17/17 [00:00<00:00, 352.16 Samples/s]                  \n"
     ]
    },
    {
     "name": "stdout",
     "output_type": "stream",
     "text": [
      "Initialised with 14 image(s) found.\n",
      "Output directory set to train_images_inferred/train_images/138/train_images_inferred/train_images/138."
     ]
    },
    {
     "name": "stderr",
     "output_type": "stream",
     "text": [
      "Processing <PIL.Image.Image image mode=RGB size=500x500 at 0x14D652430E80>: 100%|██████████| 36/36 [00:00<00:00, 401.81 Samples/s]                  \n"
     ]
    },
    {
     "name": "stdout",
     "output_type": "stream",
     "text": [
      "Initialised with 15 image(s) found.\n",
      "Output directory set to train_images_inferred/train_images/134/train_images_inferred/train_images/134."
     ]
    },
    {
     "name": "stderr",
     "output_type": "stream",
     "text": [
      "Processing <PIL.Image.Image image mode=RGB size=500x320 at 0x14D662C53AF0>: 100%|██████████| 35/35 [00:00<00:00, 359.93 Samples/s]                  \n"
     ]
    },
    {
     "name": "stdout",
     "output_type": "stream",
     "text": [
      "Initialised with 28 image(s) found.\n",
      "Output directory set to train_images_inferred/train_images/49/train_images_inferred/train_images/49."
     ]
    },
    {
     "name": "stderr",
     "output_type": "stream",
     "text": [
      "Processing <PIL.Image.Image image mode=RGB size=500x334 at 0x14D6528E2080>: 100%|██████████| 22/22 [00:00<00:00, 392.78 Samples/s]                  \n"
     ]
    },
    {
     "name": "stdout",
     "output_type": "stream",
     "text": [
      "Initialised with 9 image(s) found.\n",
      "Output directory set to train_images_inferred/train_images/176/train_images_inferred/train_images/176."
     ]
    },
    {
     "name": "stderr",
     "output_type": "stream",
     "text": [
      "Processing <PIL.Image.Image image mode=RGB size=500x333 at 0x14D6528A42E0>: 100%|██████████| 41/41 [00:00<00:00, 518.50 Samples/s]                  \n"
     ]
    },
    {
     "name": "stdout",
     "output_type": "stream",
     "text": [
      "Initialised with 32 image(s) found.\n",
      "Output directory set to train_images_inferred/train_images/19/train_images_inferred/train_images/19."
     ]
    },
    {
     "name": "stderr",
     "output_type": "stream",
     "text": [
      "Processing <PIL.Image.Image image mode=RGB size=500x333 at 0x14D6528E1510>: 100%|██████████| 18/18 [00:00<00:00, 413.18 Samples/s]                 \n"
     ]
    },
    {
     "name": "stdout",
     "output_type": "stream",
     "text": [
      "Initialised with 21 image(s) found.\n",
      "Output directory set to train_images_inferred/train_images/97/train_images_inferred/train_images/97."
     ]
    },
    {
     "name": "stderr",
     "output_type": "stream",
     "text": [
      "Processing <PIL.Image.Image image mode=RGB size=500x375 at 0x14D6528A5240>: 100%|██████████| 29/29 [00:00<00:00, 479.50 Samples/s]                \n"
     ]
    },
    {
     "name": "stdout",
     "output_type": "stream",
     "text": [
      "Initialised with 16 image(s) found.\n",
      "Output directory set to train_images_inferred/train_images/126/train_images_inferred/train_images/126."
     ]
    },
    {
     "name": "stderr",
     "output_type": "stream",
     "text": [
      "Processing <PIL.Image.Image image mode=RGB size=500x384 at 0x14D662C52C50>: 100%|██████████| 34/34 [00:00<00:00, 411.69 Samples/s]\n"
     ]
    },
    {
     "name": "stdout",
     "output_type": "stream",
     "text": [
      "Initialised with 33 image(s) found.\n",
      "Output directory set to train_images_inferred/train_images/14/train_images_inferred/train_images/14."
     ]
    },
    {
     "name": "stderr",
     "output_type": "stream",
     "text": [
      "Processing <PIL.Image.Image image mode=RGB size=333x500 at 0x14D6528E2110>: 100%|██████████| 17/17 [00:00<00:00, 398.41 Samples/s]\n"
     ]
    },
    {
     "name": "stdout",
     "output_type": "stream",
     "text": [
      "Initialised with 21 image(s) found.\n",
      "Output directory set to train_images_inferred/train_images/92/train_images_inferred/train_images/92."
     ]
    },
    {
     "name": "stderr",
     "output_type": "stream",
     "text": [
      "Processing <PIL.JpegImagePlugin.JpegImageFile image mode=RGB size=341x500 at 0x14D652289A20>: 100%|██████████| 29/29 [00:00<00:00, 469.63 Samples/s]\n"
     ]
    },
    {
     "name": "stdout",
     "output_type": "stream",
     "text": [
      "Initialised with 17 image(s) found.\n",
      "Output directory set to train_images_inferred/train_images/122/train_images_inferred/train_images/122."
     ]
    },
    {
     "name": "stderr",
     "output_type": "stream",
     "text": [
      "Processing <PIL.Image.Image image mode=RGB size=500x375 at 0x14D6528AADA0>: 100%|██████████| 33/33 [00:00<00:00, 442.28 Samples/s]                  \n"
     ]
    },
    {
     "name": "stdout",
     "output_type": "stream",
     "text": [
      "Initialised with 10 image(s) found.\n",
      "Output directory set to train_images_inferred/train_images/164/train_images_inferred/train_images/164."
     ]
    },
    {
     "name": "stderr",
     "output_type": "stream",
     "text": [
      "Processing <PIL.Image.Image image mode=RGB size=500x326 at 0x14D6527DDE70>: 100%|██████████| 40/40 [00:00<00:00, 397.94 Samples/s]                \n"
     ]
    },
    {
     "name": "stdout",
     "output_type": "stream",
     "text": [
      "Initialised with 11 image(s) found.\n",
      "Output directory set to train_images_inferred/train_images/160/train_images_inferred/train_images/160."
     ]
    },
    {
     "name": "stderr",
     "output_type": "stream",
     "text": [
      "Processing <PIL.Image.Image image mode=RGB size=500x352 at 0x14D662C52C50>: 100%|██████████| 39/39 [00:00<00:00, 459.49 Samples/s]                  \n"
     ]
    },
    {
     "name": "stdout",
     "output_type": "stream",
     "text": [
      "Initialised with 18 image(s) found.\n",
      "Output directory set to train_images_inferred/train_images/114/train_images_inferred/train_images/114."
     ]
    },
    {
     "name": "stderr",
     "output_type": "stream",
     "text": [
      "Processing <PIL.Image.Image image mode=RGB size=500x333 at 0x14D6528A42B0>: 100%|██████████| 32/32 [00:00<00:00, 426.50 Samples/s]                  \n"
     ]
    },
    {
     "name": "stdout",
     "output_type": "stream",
     "text": [
      "Initialised with 19 image(s) found.\n",
      "Output directory set to train_images_inferred/train_images/110/train_images_inferred/train_images/110."
     ]
    },
    {
     "name": "stderr",
     "output_type": "stream",
     "text": [
      "Processing <PIL.Image.Image image mode=RGB size=500x500 at 0x14D6528A4220>: 100%|██████████| 31/31 [00:00<00:00, 331.89 Samples/s]                  \n"
     ]
    },
    {
     "name": "stdout",
     "output_type": "stream",
     "text": [
      "Initialised with 32 image(s) found.\n",
      "Output directory set to train_images_inferred/train_images/17/train_images_inferred/train_images/17."
     ]
    },
    {
     "name": "stderr",
     "output_type": "stream",
     "text": [
      "Processing <PIL.Image.Image image mode=RGB size=444x500 at 0x14D6524320E0>: 100%|██████████| 18/18 [00:00<00:00, 400.46 Samples/s]                \n"
     ]
    },
    {
     "name": "stdout",
     "output_type": "stream",
     "text": [
      "Initialised with 12 image(s) found.\n",
      "Output directory set to train_images_inferred/train_images/152/train_images_inferred/train_images/152."
     ]
    },
    {
     "name": "stderr",
     "output_type": "stream",
     "text": [
      "Processing <PIL.Image.Image image mode=RGB size=500x320 at 0x14D6528E1030>: 100%|██████████| 38/38 [00:00<00:00, 449.67 Samples/s]                \n"
     ]
    },
    {
     "name": "stdout",
     "output_type": "stream",
     "text": [
      "Initialised with 25 image(s) found.\n",
      "Output directory set to train_images_inferred/train_images/65/train_images_inferred/train_images/65."
     ]
    },
    {
     "name": "stderr",
     "output_type": "stream",
     "text": [
      "Processing <PIL.Image.Image image mode=RGB size=500x366 at 0x14D652432E30>: 100%|██████████| 25/25 [00:00<00:00, 526.64 Samples/s]                 \n"
     ]
    },
    {
     "name": "stdout",
     "output_type": "stream",
     "text": [
      "Initialised with 6 image(s) found.\n",
      "Output directory set to train_images_inferred/train_images/194/train_images_inferred/train_images/194."
     ]
    },
    {
     "name": "stderr",
     "output_type": "stream",
     "text": [
      "Processing <PIL.Image.Image image mode=RGB size=500x500 at 0x14D6528A41C0>: 100%|██████████| 44/44 [00:00<00:00, 337.86 Samples/s]                 \n"
     ]
    },
    {
     "name": "stdout",
     "output_type": "stream",
     "text": [
      "Initialised with 7 image(s) found.\n",
      "Output directory set to train_images_inferred/train_images/190/train_images_inferred/train_images/190."
     ]
    },
    {
     "name": "stderr",
     "output_type": "stream",
     "text": [
      "Processing <PIL.JpegImagePlugin.JpegImageFile image mode=RGB size=500x357 at 0x14D65228BDC0>: 100%|██████████| 43/43 [00:00<00:00, 497.32 Samples/s]\n"
     ]
    },
    {
     "name": "stdout",
     "output_type": "stream",
     "text": [
      "Initialised with 26 image(s) found.\n",
      "Output directory set to train_images_inferred/train_images/60/train_images_inferred/train_images/60."
     ]
    },
    {
     "name": "stderr",
     "output_type": "stream",
     "text": [
      "Processing <PIL.Image.Image image mode=RGB size=500x333 at 0x14D662C53A00>: 100%|██████████| 24/24 [00:00<00:00, 424.04 Samples/s]\n"
     ]
    },
    {
     "name": "stdout",
     "output_type": "stream",
     "text": [
      "Initialised with 14 image(s) found.\n",
      "Output directory set to train_images_inferred/train_images/140/train_images_inferred/train_images/140."
     ]
    },
    {
     "name": "stderr",
     "output_type": "stream",
     "text": [
      "Processing <PIL.Image.Image image mode=RGB size=362x500 at 0x14D6528B1360>: 100%|██████████| 36/36 [00:00<00:00, 394.17 Samples/s]                  \n"
     ]
    },
    {
     "name": "stdout",
     "output_type": "stream",
     "text": [
      "Initialised with 25 image(s) found.\n",
      "Output directory set to train_images_inferred/train_images/68/train_images_inferred/train_images/68."
     ]
    },
    {
     "name": "stderr",
     "output_type": "stream",
     "text": [
      "Processing <PIL.Image.Image image mode=RGB size=386x500 at 0x14D660099000>: 100%|██████████| 25/25 [00:00<00:00, 311.01 Samples/s]\n"
     ]
    },
    {
     "name": "stdout",
     "output_type": "stream",
     "text": [
      "Initialised with 26 image(s) found.\n",
      "Output directory set to train_images_inferred/train_images/63/train_images_inferred/train_images/63."
     ]
    },
    {
     "name": "stderr",
     "output_type": "stream",
     "text": [
      "Processing <PIL.Image.Image image mode=RGB size=500x406 at 0x14D6528E1D50>: 100%|██████████| 24/24 [00:00<00:00, 438.01 Samples/s]                 \n"
     ]
    },
    {
     "name": "stdout",
     "output_type": "stream",
     "text": [
      "Initialised with 30 image(s) found.\n",
      "Output directory set to train_images_inferred/train_images/33/train_images_inferred/train_images/33."
     ]
    },
    {
     "name": "stderr",
     "output_type": "stream",
     "text": [
      "Processing <PIL.Image.Image image mode=RGB size=500x375 at 0x14D6528E15A0>: 100%|██████████| 20/20 [00:00<00:00, 412.11 Samples/s]                 \n"
     ]
    },
    {
     "name": "stdout",
     "output_type": "stream",
     "text": [
      "Initialised with 19 image(s) found.\n",
      "Output directory set to train_images_inferred/train_images/5/train_images_inferred/train_images/5."
     ]
    },
    {
     "name": "stderr",
     "output_type": "stream",
     "text": [
      "Processing <PIL.Image.Image image mode=RGB size=333x500 at 0x14D6528E10F0>: 100%|██████████| 31/31 [00:00<00:00, 506.13 Samples/s]                  \n"
     ]
    },
    {
     "name": "stdout",
     "output_type": "stream",
     "text": [
      "Initialised with 35 image(s) found.\n",
      "Output directory set to train_images_inferred/train_images/2/train_images_inferred/train_images/2."
     ]
    },
    {
     "name": "stderr",
     "output_type": "stream",
     "text": [
      "Processing <PIL.Image.Image image mode=RGB size=500x375 at 0x14D6528A5240>: 100%|██████████| 15/15 [00:00<00:00, 402.55 Samples/s]        \n"
     ]
    },
    {
     "name": "stdout",
     "output_type": "stream",
     "text": [
      "Initialised with 30 image(s) found.\n",
      "Output directory set to train_images_inferred/train_images/36/train_images_inferred/train_images/36."
     ]
    },
    {
     "name": "stderr",
     "output_type": "stream",
     "text": [
      "Processing <PIL.Image.Image image mode=RGB size=358x500 at 0x14D6528E1180>: 100%|██████████| 20/20 [00:00<00:00, 362.75 Samples/s]\n"
     ]
    },
    {
     "name": "stdout",
     "output_type": "stream",
     "text": [
      "Initialised with 30 image(s) found.\n",
      "Output directory set to train_images_inferred/train_images/31/train_images_inferred/train_images/31."
     ]
    },
    {
     "name": "stderr",
     "output_type": "stream",
     "text": [
      "Processing <PIL.Image.Image image mode=RGB size=334x500 at 0x14D6528A41C0>: 100%|██████████| 20/20 [00:00<00:00, 489.50 Samples/s]                \n"
     ]
    },
    {
     "name": "stdout",
     "output_type": "stream",
     "text": [
      "Initialised with 19 image(s) found.\n",
      "Output directory set to train_images_inferred/train_images/109/train_images_inferred/train_images/109."
     ]
    },
    {
     "name": "stderr",
     "output_type": "stream",
     "text": [
      "Processing <PIL.Image.Image image mode=RGB size=500x335 at 0x14D6792069E0>: 100%|██████████| 31/31 [00:00<00:00, 538.31 Samples/s]                  \n"
     ]
    },
    {
     "name": "stdout",
     "output_type": "stream",
     "text": [
      "Initialised with 29 image(s) found.\n",
      "Output directory set to train_images_inferred/train_images/39/train_images_inferred/train_images/39."
     ]
    },
    {
     "name": "stderr",
     "output_type": "stream",
     "text": [
      "Processing <PIL.Image.Image image mode=RGB size=500x462 at 0x14D6528E15A0>: 100%|██████████| 21/21 [00:00<00:00, 344.96 Samples/s]                  \n"
     ]
    },
    {
     "name": "stdout",
     "output_type": "stream",
     "text": [
      "Initialised with 22 image(s) found.\n",
      "Output directory set to train_images_inferred/train_images/87/train_images_inferred/train_images/87."
     ]
    },
    {
     "name": "stderr",
     "output_type": "stream",
     "text": [
      "Processing <PIL.Image.Image image mode=RGB size=500x333 at 0x14D6527DDAE0>: 100%|██████████| 28/28 [00:00<00:00, 379.90 Samples/s]                  \n"
     ]
    },
    {
     "name": "stdout",
     "output_type": "stream",
     "text": [
      "Initialised with 7 image(s) found.\n",
      "Output directory set to train_images_inferred/train_images/189/train_images_inferred/train_images/189."
     ]
    },
    {
     "name": "stderr",
     "output_type": "stream",
     "text": [
      "Processing <PIL.JpegImagePlugin.JpegImageFile image mode=RGB size=375x500 at 0x14D6522893F0>: 100%|██████████| 43/43 [00:00<00:00, 396.80 Samples/s]\n"
     ]
    },
    {
     "name": "stdout",
     "output_type": "stream",
     "text": [
      "Initialised with 23 image(s) found.\n",
      "Output directory set to train_images_inferred/train_images/82/train_images_inferred/train_images/82."
     ]
    },
    {
     "name": "stderr",
     "output_type": "stream",
     "text": [
      "Processing <PIL.Image.Image image mode=RGB size=500x334 at 0x14D6600DDF90>: 100%|██████████| 27/27 [00:00<00:00, 380.84 Samples/s]                  \n"
     ]
    },
    {
     "name": "stdout",
     "output_type": "stream",
     "text": [
      "Initialised with 14 image(s) found.\n",
      "Output directory set to train_images_inferred/train_images/139/train_images_inferred/train_images/139."
     ]
    },
    {
     "name": "stderr",
     "output_type": "stream",
     "text": [
      "Processing <PIL.Image.Image image mode=RGB size=500x451 at 0x14D6528A5090>: 100%|██████████| 36/36 [00:00<00:00, 407.46 Samples/s]\n"
     ]
    },
    {
     "name": "stdout",
     "output_type": "stream",
     "text": [
      "Initialised with 15 image(s) found.\n",
      "Output directory set to train_images_inferred/train_images/135/train_images_inferred/train_images/135."
     ]
    },
    {
     "name": "stderr",
     "output_type": "stream",
     "text": [
      "Processing <PIL.Image.Image image mode=RGB size=500x375 at 0x14D652431CC0>: 100%|██████████| 35/35 [00:00<00:00, 433.78 Samples/s]                  \n"
     ]
    },
    {
     "name": "stdout",
     "output_type": "stream",
     "text": [
      "Initialised with 8 image(s) found.\n",
      "Output directory set to train_images_inferred/train_images/177/train_images_inferred/train_images/177."
     ]
    },
    {
     "name": "stderr",
     "output_type": "stream",
     "text": [
      "Processing <PIL.Image.Image image mode=RGB size=500x375 at 0x14D6600DE290>: 100%|██████████| 42/42 [00:00<00:00, 386.44 Samples/s]                  \n"
     ]
    },
    {
     "name": "stdout",
     "output_type": "stream",
     "text": [
      "Initialised with 16 image(s) found.\n",
      "Output directory set to train_images_inferred/train_images/127/train_images_inferred/train_images/127."
     ]
    },
    {
     "name": "stderr",
     "output_type": "stream",
     "text": [
      "Processing <PIL.Image.Image image mode=RGB size=500x392 at 0x14D6528E0D90>: 100%|██████████| 34/34 [00:00<00:00, 358.93 Samples/s]                  \n"
     ]
    },
    {
     "name": "stdout",
     "output_type": "stream",
     "text": [
      "Initialised with 17 image(s) found.\n",
      "Output directory set to train_images_inferred/train_images/123/train_images_inferred/train_images/123."
     ]
    },
    {
     "name": "stderr",
     "output_type": "stream",
     "text": [
      "Processing <PIL.Image.Image image mode=RGB size=500x371 at 0x14D662C535B0>: 100%|██████████| 33/33 [00:00<00:00, 524.28 Samples/s]                  \n"
     ]
    },
    {
     "name": "stdout",
     "output_type": "stream",
     "text": [
      "Initialised with 10 image(s) found.\n",
      "Output directory set to train_images_inferred/train_images/169/train_images_inferred/train_images/169."
     ]
    },
    {
     "name": "stderr",
     "output_type": "stream",
     "text": [
      "Processing <PIL.Image.Image image mode=RGB size=453x500 at 0x14D662C53460>: 100%|██████████| 40/40 [00:00<00:00, 365.80 Samples/s]                  \n"
     ]
    },
    {
     "name": "stdout",
     "output_type": "stream",
     "text": [
      "Initialised with 27 image(s) found.\n",
      "Output directory set to train_images_inferred/train_images/55/train_images_inferred/train_images/55."
     ]
    },
    {
     "name": "stderr",
     "output_type": "stream",
     "text": [
      "Processing <PIL.Image.Image image mode=RGB size=400x500 at 0x14D65228BD60>: 100%|██████████| 23/23 [00:00<00:00, 411.40 Samples/s]\n"
     ]
    },
    {
     "name": "stdout",
     "output_type": "stream",
     "text": [
      "Initialised with 10 image(s) found.\n",
      "Output directory set to train_images_inferred/train_images/165/train_images_inferred/train_images/165."
     ]
    },
    {
     "name": "stderr",
     "output_type": "stream",
     "text": [
      "Processing <PIL.Image.Image image mode=RGB size=438x500 at 0x14D6528AAC20>: 100%|██████████| 40/40 [00:00<00:00, 409.16 Samples/s]                  \n"
     ]
    },
    {
     "name": "stdout",
     "output_type": "stream",
     "text": [
      "Initialised with 11 image(s) found.\n",
      "Output directory set to train_images_inferred/train_images/161/train_images_inferred/train_images/161."
     ]
    },
    {
     "name": "stderr",
     "output_type": "stream",
     "text": [
      "Processing <PIL.JpegImagePlugin.JpegImageFile image mode=RGB size=500x345 at 0x14D652288640>: 100%|██████████| 39/39 [00:00<00:00, 460.23 Samples/s]\n"
     ]
    },
    {
     "name": "stdout",
     "output_type": "stream",
     "text": [
      "Initialised with 28 image(s) found.\n",
      "Output directory set to train_images_inferred/train_images/50/train_images_inferred/train_images/50."
     ]
    },
    {
     "name": "stderr",
     "output_type": "stream",
     "text": [
      "Processing <PIL.Image.Image image mode=RGB size=500x426 at 0x14D6528AA950>: 100%|██████████| 22/22 [00:00<00:00, 394.43 Samples/s]\n"
     ]
    },
    {
     "name": "stdout",
     "output_type": "stream",
     "text": [
      "Initialised with 18 image(s) found.\n",
      "Output directory set to train_images_inferred/train_images/115/train_images_inferred/train_images/115."
     ]
    },
    {
     "name": "stderr",
     "output_type": "stream",
     "text": [
      "Processing <PIL.Image.Image image mode=RGB size=272x182 at 0x14D65228AB90>: 100%|██████████| 32/32 [00:00<00:00, 543.87 Samples/s]                  \n"
     ]
    },
    {
     "name": "stdout",
     "output_type": "stream",
     "text": [
      "Initialised with 18 image(s) found.\n",
      "Output directory set to train_images_inferred/train_images/111/train_images_inferred/train_images/111."
     ]
    },
    {
     "name": "stderr",
     "output_type": "stream",
     "text": [
      "Processing <PIL.JpegImagePlugin.JpegImageFile image mode=RGB size=500x387 at 0x14D652432EF0>: 100%|██████████| 32/32 [00:00<00:00, 399.27 Samples/s]\n"
     ]
    },
    {
     "name": "stdout",
     "output_type": "stream",
     "text": [
      "Initialised with 12 image(s) found.\n",
      "Output directory set to train_images_inferred/train_images/153/train_images_inferred/train_images/153."
     ]
    },
    {
     "name": "stderr",
     "output_type": "stream",
     "text": [
      "Processing <PIL.Image.Image image mode=RGB size=480x336 at 0x14D6528E0D30>: 100%|██████████| 38/38 [00:00<00:00, 472.80 Samples/s]                  \n"
     ]
    },
    {
     "name": "stdout",
     "output_type": "stream",
     "text": [
      "Initialised with 26 image(s) found.\n",
      "Output directory set to train_images_inferred/train_images/58/train_images_inferred/train_images/58."
     ]
    },
    {
     "name": "stderr",
     "output_type": "stream",
     "text": [
      "Processing <PIL.Image.Image image mode=RGB size=450x300 at 0x14D6528AAEC0>: 100%|██████████| 24/24 [00:00<00:00, 409.40 Samples/s]                 \n"
     ]
    },
    {
     "name": "stdout",
     "output_type": "stream",
     "text": [
      "Initialised with 6 image(s) found.\n",
      "Output directory set to train_images_inferred/train_images/195/train_images_inferred/train_images/195."
     ]
    },
    {
     "name": "stderr",
     "output_type": "stream",
     "text": [
      "Processing <PIL.Image.Image image mode=RGB size=500x336 at 0x14D6528E1EA0>: 100%|██████████| 44/44 [00:00<00:00, 447.61 Samples/s]                  \n"
     ]
    },
    {
     "name": "stdout",
     "output_type": "stream",
     "text": [
      "Initialised with 6 image(s) found.\n",
      "Output directory set to train_images_inferred/train_images/191/train_images_inferred/train_images/191."
     ]
    },
    {
     "name": "stderr",
     "output_type": "stream",
     "text": [
      "Processing <PIL.Image.Image image mode=RGB size=359x500 at 0x14D6528AAEC0>: 100%|██████████| 44/44 [00:00<00:00, 397.84 Samples/s]                  \n"
     ]
    },
    {
     "name": "stdout",
     "output_type": "stream",
     "text": [
      "Initialised with 32 image(s) found.\n",
      "Output directory set to train_images_inferred/train_images/23/train_images_inferred/train_images/23."
     ]
    },
    {
     "name": "stderr",
     "output_type": "stream",
     "text": [
      "Processing <PIL.JpegImagePlugin.JpegImageFile image mode=RGB size=407x500 at 0x14D6528E0D90>: 100%|██████████| 18/18 [00:00<00:00, 445.81 Samples/s]\n"
     ]
    },
    {
     "name": "stdout",
     "output_type": "stream",
     "text": [
      "Initialised with 14 image(s) found.\n",
      "Output directory set to train_images_inferred/train_images/141/train_images_inferred/train_images/141."
     ]
    },
    {
     "name": "stderr",
     "output_type": "stream",
     "text": [
      "Processing <PIL.Image.Image image mode=RGB size=500x333 at 0x14D6600DD1B0>: 100%|██████████| 36/36 [00:00<00:00, 528.36 Samples/s]                  \n"
     ]
    },
    {
     "name": "stdout",
     "output_type": "stream",
     "text": [
      "Initialised with 8 image(s) found.\n",
      "Output directory set to train_images_inferred/train_images/183/train_images_inferred/train_images/183."
     ]
    },
    {
     "name": "stderr",
     "output_type": "stream",
     "text": [
      "Processing <PIL.Image.Image image mode=RGB size=500x333 at 0x14D65240A320>: 100%|██████████| 42/42 [00:00<00:00, 505.00 Samples/s]\n"
     ]
    },
    {
     "name": "stdout",
     "output_type": "stream",
     "text": [
      "Initialised with 35 image(s) found.\n",
      "Output directory set to train_images_inferred/train_images/4/train_images_inferred/train_images/4."
     ]
    },
    {
     "name": "stderr",
     "output_type": "stream",
     "text": [
      "Processing <PIL.Image.Image image mode=RGB size=500x392 at 0x14D662C52D40>: 100%|██████████| 15/15 [00:00<00:00, 325.00 Samples/s]                 \n"
     ]
    },
    {
     "name": "stdout",
     "output_type": "stream",
     "text": [
      "Initialised with 35 image(s) found.\n",
      "Output directory set to train_images_inferred/train_images/1/train_images_inferred/train_images/1."
     ]
    },
    {
     "name": "stderr",
     "output_type": "stream",
     "text": [
      "Processing <PIL.Image.Image image mode=RGB size=320x223 at 0x14D65228B5E0>: 100%|██████████| 15/15 [00:00<00:00, 417.66 Samples/s]\n"
     ]
    },
    {
     "name": "stdout",
     "output_type": "stream",
     "text": [
      "Initialised with 5 image(s) found.\n",
      "Output directory set to train_images_inferred/train_images/200/train_images_inferred/train_images/200."
     ]
    },
    {
     "name": "stderr",
     "output_type": "stream",
     "text": [
      "Processing <PIL.Image.Image image mode=RGB size=500x333 at 0x14D652433B80>: 100%|██████████| 45/45 [00:00<00:00, 482.61 Samples/s]\n"
     ]
    },
    {
     "name": "stdout",
     "output_type": "stream",
     "text": [
      "Initialised with 31 image(s) found.\n",
      "Output directory set to train_images_inferred/train_images/26/train_images_inferred/train_images/26."
     ]
    },
    {
     "name": "stderr",
     "output_type": "stream",
     "text": [
      "Processing <PIL.Image.Image image mode=RGB size=500x339 at 0x14D662C52CE0>: 100%|██████████| 19/19 [00:00<00:00, 451.04 Samples/s]                  \n"
     ]
    },
    {
     "name": "stdout",
     "output_type": "stream",
     "text": [
      "Initialised with 24 image(s) found.\n",
      "Output directory set to train_images_inferred/train_images/74/train_images_inferred/train_images/74."
     ]
    },
    {
     "name": "stderr",
     "output_type": "stream",
     "text": [
      "Processing <PIL.Image.Image image mode=RGB size=333x500 at 0x14D662C53820>: 100%|██████████| 26/26 [00:00<00:00, 491.24 Samples/s]                  \n"
     ]
    },
    {
     "name": "stdout",
     "output_type": "stream",
     "text": [
      "Initialised with 31 image(s) found.\n",
      "Output directory set to train_images_inferred/train_images/29/train_images_inferred/train_images/29."
     ]
    },
    {
     "name": "stderr",
     "output_type": "stream",
     "text": [
      "Processing <PIL.Image.Image image mode=RGB size=500x375 at 0x14D6527DD780>: 100%|██████████| 19/19 [00:00<00:00, 378.71 Samples/s]                 \n"
     ]
    },
    {
     "name": "stdout",
     "output_type": "stream",
     "text": [
      "Initialised with 24 image(s) found.\n",
      "Output directory set to train_images_inferred/train_images/77/train_images_inferred/train_images/77."
     ]
    },
    {
     "name": "stderr",
     "output_type": "stream",
     "text": [
      "Processing <PIL.Image.Image image mode=RGB size=500x375 at 0x14D662C52560>: 100%|██████████| 26/26 [00:00<00:00, 403.72 Samples/s]\n"
     ]
    },
    {
     "name": "stdout",
     "output_type": "stream",
     "text": [
      "Initialised with 24 image(s) found.\n",
      "Output directory set to train_images_inferred/train_images/72/train_images_inferred/train_images/72."
     ]
    },
    {
     "name": "stderr",
     "output_type": "stream",
     "text": [
      "Processing <PIL.Image.Image image mode=RGB size=500x352 at 0x14D6528A5210>: 100%|██████████| 26/26 [00:00<00:00, 545.28 Samples/s]                  \n"
     ]
    },
    {
     "name": "stdout",
     "output_type": "stream",
     "text": [
      "Initialised with 28 image(s) found.\n",
      "Output directory set to train_images_inferred/train_images/45/train_images_inferred/train_images/45."
     ]
    },
    {
     "name": "stderr",
     "output_type": "stream",
     "text": [
      "Processing <PIL.Image.Image image mode=RGB size=500x333 at 0x14D6528E1510>: 100%|██████████| 22/22 [00:00<00:00, 424.74 Samples/s]                  \n"
     ]
    },
    {
     "name": "stdout",
     "output_type": "stream",
     "text": [
      "Initialised with 8 image(s) found.\n",
      "Output directory set to train_images_inferred/train_images/178/train_images_inferred/train_images/178."
     ]
    },
    {
     "name": "stderr",
     "output_type": "stream",
     "text": [
      "Processing <PIL.Image.Image image mode=RGB size=333x500 at 0x14D6528A5090>: 100%|██████████| 42/42 [00:00<00:00, 460.34 Samples/s]                  \n"
     ]
    },
    {
     "name": "stdout",
     "output_type": "stream",
     "text": [
      "Initialised with 29 image(s) found.\n",
      "Output directory set to train_images_inferred/train_images/40/train_images_inferred/train_images/40."
     ]
    },
    {
     "name": "stderr",
     "output_type": "stream",
     "text": [
      "Processing <PIL.Image.Image image mode=RGB size=454x500 at 0x14D6528E0DF0>: 100%|██████████| 21/21 [00:00<00:00, 325.79 Samples/s]                  \n"
     ]
    },
    {
     "name": "stdout",
     "output_type": "stream",
     "text": [
      "Initialised with 16 image(s) found.\n",
      "Output directory set to train_images_inferred/train_images/128/train_images_inferred/train_images/128."
     ]
    },
    {
     "name": "stderr",
     "output_type": "stream",
     "text": [
      "Processing <PIL.Image.Image image mode=RGB size=375x500 at 0x14D6600DCE20>: 100%|██████████| 34/34 [00:00<00:00, 453.92 Samples/s]                  \n"
     ]
    },
    {
     "name": "stdout",
     "output_type": "stream",
     "text": [
      "Initialised with 16 image(s) found.\n",
      "Output directory set to train_images_inferred/train_images/124/train_images_inferred/train_images/124."
     ]
    },
    {
     "name": "stderr",
     "output_type": "stream",
     "text": [
      "Processing <PIL.Image.Image image mode=RGB size=500x367 at 0x14D652431C30>: 100%|██████████| 34/34 [00:00<00:00, 369.75 Samples/s]                \n"
     ]
    },
    {
     "name": "stdout",
     "output_type": "stream",
     "text": [
      "Initialised with 28 image(s) found.\n",
      "Output directory set to train_images_inferred/train_images/48/train_images_inferred/train_images/48."
     ]
    },
    {
     "name": "stderr",
     "output_type": "stream",
     "text": [
      "Processing <PIL.Image.Image image mode=RGB size=500x375 at 0x14D6528A53C0>: 100%|██████████| 22/22 [00:00<00:00, 407.24 Samples/s]        \n"
     ]
    },
    {
     "name": "stdout",
     "output_type": "stream",
     "text": [
      "Initialised with 10 image(s) found.\n",
      "Output directory set to train_images_inferred/train_images/166/train_images_inferred/train_images/166."
     ]
    },
    {
     "name": "stderr",
     "output_type": "stream",
     "text": [
      "Processing <PIL.Image.Image image mode=RGB size=500x333 at 0x14D6528A4250>: 100%|██████████| 40/40 [00:00<00:00, 489.93 Samples/s]                  \n"
     ]
    },
    {
     "name": "stdout",
     "output_type": "stream",
     "text": [
      "Initialised with 21 image(s) found.\n",
      "Output directory set to train_images_inferred/train_images/96/train_images_inferred/train_images/96."
     ]
    },
    {
     "name": "stderr",
     "output_type": "stream",
     "text": [
      "Processing <PIL.Image.Image image mode=RGB size=500x375 at 0x14D6528A4220>: 100%|██████████| 29/29 [00:00<00:00, 452.87 Samples/s]                  \n"
     ]
    },
    {
     "name": "stdout",
     "output_type": "stream",
     "text": [
      "Initialised with 18 image(s) found.\n",
      "Output directory set to train_images_inferred/train_images/116/train_images_inferred/train_images/116."
     ]
    },
    {
     "name": "stderr",
     "output_type": "stream",
     "text": [
      "Processing <PIL.Image.Image image mode=RGB size=500x331 at 0x14D6528E1330>: 100%|██████████| 32/32 [00:00<00:00, 380.42 Samples/s]                  \n"
     ]
    },
    {
     "name": "stdout",
     "output_type": "stream",
     "text": [
      "Initialised with 33 image(s) found.\n",
      "Output directory set to train_images_inferred/train_images/13/train_images_inferred/train_images/13."
     ]
    },
    {
     "name": "stderr",
     "output_type": "stream",
     "text": [
      "Processing <PIL.Image.Image image mode=RGB size=500x500 at 0x14D6528A5210>: 100%|██████████| 17/17 [00:00<00:00, 433.99 Samples/s]                  \n"
     ]
    },
    {
     "name": "stdout",
     "output_type": "stream",
     "text": [
      "Initialised with 21 image(s) found.\n",
      "Output directory set to train_images_inferred/train_images/91/train_images_inferred/train_images/91."
     ]
    },
    {
     "name": "stderr",
     "output_type": "stream",
     "text": [
      "Processing <PIL.Image.Image image mode=RGB size=423x500 at 0x14D6528AAD70>: 100%|██████████| 29/29 [00:00<00:00, 448.55 Samples/s]                  \n"
     ]
    },
    {
     "name": "stdout",
     "output_type": "stream",
     "text": [
      "Initialised with 18 image(s) found.\n",
      "Output directory set to train_images_inferred/train_images/112/train_images_inferred/train_images/112."
     ]
    },
    {
     "name": "stderr",
     "output_type": "stream",
     "text": [
      "Processing <PIL.Image.Image image mode=RGB size=500x381 at 0x14D6528A5210>: 100%|██████████| 32/32 [00:00<00:00, 471.17 Samples/s]                 \n"
     ]
    },
    {
     "name": "stdout",
     "output_type": "stream",
     "text": [
      "Initialised with 11 image(s) found.\n",
      "Output directory set to train_images_inferred/train_images/158/train_images_inferred/train_images/158."
     ]
    },
    {
     "name": "stderr",
     "output_type": "stream",
     "text": [
      "Processing <PIL.Image.Image image mode=RGB size=500x311 at 0x14D6528E2680>: 100%|██████████| 39/39 [00:00<00:00, 470.05 Samples/s]                  \n"
     ]
    },
    {
     "name": "stdout",
     "output_type": "stream",
     "text": [
      "Initialised with 12 image(s) found.\n",
      "Output directory set to train_images_inferred/train_images/154/train_images_inferred/train_images/154."
     ]
    },
    {
     "name": "stderr",
     "output_type": "stream",
     "text": [
      "Processing <PIL.Image.Image image mode=RGB size=500x351 at 0x14D6600DDF90>: 100%|██████████| 38/38 [00:00<00:00, 485.07 Samples/s]\n"
     ]
    },
    {
     "name": "stdout",
     "output_type": "stream",
     "text": [
      "Initialised with 13 image(s) found.\n",
      "Output directory set to train_images_inferred/train_images/150/train_images_inferred/train_images/150."
     ]
    },
    {
     "name": "stderr",
     "output_type": "stream",
     "text": [
      "Processing <PIL.Image.Image image mode=RGB size=500x334 at 0x14D6528E0D30>: 100%|██████████| 37/37 [00:00<00:00, 465.35 Samples/s]                  \n"
     ]
    },
    {
     "name": "stdout",
     "output_type": "stream",
     "text": [
      "Initialised with 6 image(s) found.\n",
      "Output directory set to train_images_inferred/train_images/196/train_images_inferred/train_images/196."
     ]
    },
    {
     "name": "stderr",
     "output_type": "stream",
     "text": [
      "Processing <PIL.Image.Image image mode=RGB size=500x375 at 0x14D662C53A00>: 100%|██████████| 44/44 [00:00<00:00, 442.65 Samples/s]                  \n"
     ]
    },
    {
     "name": "stdout",
     "output_type": "stream",
     "text": [
      "Initialised with 19 image(s) found.\n",
      "Output directory set to train_images_inferred/train_images/104/train_images_inferred/train_images/104."
     ]
    },
    {
     "name": "stderr",
     "output_type": "stream",
     "text": [
      "Processing <PIL.Image.Image image mode=RGB size=500x448 at 0x14D6528A4340>: 100%|██████████| 31/31 [00:00<00:00, 486.50 Samples/s]                  \n"
     ]
    },
    {
     "name": "stdout",
     "output_type": "stream",
     "text": [
      "Initialised with 20 image(s) found.\n",
      "Output directory set to train_images_inferred/train_images/99/train_images_inferred/train_images/99."
     ]
    },
    {
     "name": "stderr",
     "output_type": "stream",
     "text": [
      "Processing <PIL.Image.Image image mode=RGB size=500x464 at 0x14D652433B20>: 100%|██████████| 30/30 [00:00<00:00, 428.81 Samples/s]                 \n"
     ]
    },
    {
     "name": "stdout",
     "output_type": "stream",
     "text": [
      "Initialised with 6 image(s) found.\n",
      "Output directory set to train_images_inferred/train_images/192/train_images_inferred/train_images/192."
     ]
    },
    {
     "name": "stderr",
     "output_type": "stream",
     "text": [
      "Processing <PIL.Image.Image image mode=RGB size=500x333 at 0x14D6600DCE20>: 100%|██████████| 44/44 [00:00<00:00, 414.87 Samples/s]                  \n"
     ]
    },
    {
     "name": "stdout",
     "output_type": "stream",
     "text": [
      "Initialised with 20 image(s) found.\n",
      "Output directory set to train_images_inferred/train_images/100/train_images_inferred/train_images/100."
     ]
    },
    {
     "name": "stderr",
     "output_type": "stream",
     "text": [
      "Processing <PIL.Image.Image image mode=RGB size=500x313 at 0x14D679206A40>: 100%|██████████| 30/30 [00:00<00:00, 416.32 Samples/s]                  \n"
     ]
    },
    {
     "name": "stdout",
     "output_type": "stream",
     "text": [
      "Initialised with 33 image(s) found.\n",
      "Output directory set to train_images_inferred/train_images/16/train_images_inferred/train_images/16."
     ]
    },
    {
     "name": "stderr",
     "output_type": "stream",
     "text": [
      "Processing <PIL.Image.Image image mode=RGB size=500x324 at 0x14D65240A080>: 100%|██████████| 17/17 [00:00<00:00, 399.46 Samples/s]\n"
     ]
    },
    {
     "name": "stdout",
     "output_type": "stream",
     "text": [
      "Initialised with 21 image(s) found.\n",
      "Output directory set to train_images_inferred/train_images/94/train_images_inferred/train_images/94."
     ]
    },
    {
     "name": "stderr",
     "output_type": "stream",
     "text": [
      "Processing <PIL.Image.Image image mode=RGB size=500x387 at 0x14D6528A4280>: 100%|██████████| 29/29 [00:00<00:00, 524.47 Samples/s]                  \n"
     ]
    },
    {
     "name": "stdout",
     "output_type": "stream",
     "text": [
      "Initialised with 14 image(s) found.\n",
      "Output directory set to train_images_inferred/train_images/142/train_images_inferred/train_images/142."
     ]
    },
    {
     "name": "stderr",
     "output_type": "stream",
     "text": [
      "Processing <PIL.Image.Image image mode=RGB size=499x409 at 0x14D6528A42E0>: 100%|██████████| 36/36 [00:00<00:00, 500.94 Samples/s]                \n"
     ]
    },
    {
     "name": "stdout",
     "output_type": "stream",
     "text": [
      "Initialised with 26 image(s) found.\n",
      "Output directory set to train_images_inferred/train_images/64/train_images_inferred/train_images/64."
     ]
    },
    {
     "name": "stderr",
     "output_type": "stream",
     "text": [
      "Processing <PIL.Image.Image image mode=RGB size=500x400 at 0x14D6528E1600>: 100%|██████████| 24/24 [00:00<00:00, 372.43 Samples/s]\n"
     ]
    },
    {
     "name": "stdout",
     "output_type": "stream",
     "text": [
      "Initialised with 7 image(s) found.\n",
      "Output directory set to train_images_inferred/train_images/184/train_images_inferred/train_images/184."
     ]
    },
    {
     "name": "stderr",
     "output_type": "stream",
     "text": [
      "Processing <PIL.Image.Image image mode=RGB size=230x163 at 0x14D652433AC0>: 100%|██████████| 43/43 [00:00<00:00, 486.93 Samples/s]                  \n"
     ]
    },
    {
     "name": "stdout",
     "output_type": "stream",
     "text": [
      "Initialised with 8 image(s) found.\n",
      "Output directory set to train_images_inferred/train_images/180/train_images_inferred/train_images/180."
     ]
    },
    {
     "name": "stderr",
     "output_type": "stream",
     "text": [
      "Processing <PIL.Image.Image image mode=RGB size=500x498 at 0x14D6528A5240>: 100%|██████████| 42/42 [00:00<00:00, 380.57 Samples/s]                  \n"
     ]
    },
    {
     "name": "stdout",
     "output_type": "stream",
     "text": [
      "Initialised with 16 image(s) found.\n",
      "Output directory set to train_images_inferred/train_images/130/train_images_inferred/train_images/130."
     ]
    },
    {
     "name": "stderr",
     "output_type": "stream",
     "text": [
      "Processing <PIL.Image.Image image mode=RGB size=500x405 at 0x14D6527DD780>: 100%|██████████| 34/34 [00:00<00:00, 380.87 Samples/s]                  \n"
     ]
    },
    {
     "name": "stdout",
     "output_type": "stream",
     "text": [
      "Initialised with 9 image(s) found.\n",
      "Output directory set to train_images_inferred/train_images/172/train_images_inferred/train_images/172."
     ]
    },
    {
     "name": "stderr",
     "output_type": "stream",
     "text": [
      "Processing <PIL.Image.Image image mode=RGB size=500x334 at 0x14D6528A50F0>: 100%|██████████| 41/41 [00:00<00:00, 410.43 Samples/s]                  \n"
     ]
    },
    {
     "name": "stdout",
     "output_type": "stream",
     "text": [
      "Initialised with 25 image(s) found.\n",
      "Output directory set to train_images_inferred/train_images/67/train_images_inferred/train_images/67."
     ]
    },
    {
     "name": "stderr",
     "output_type": "stream",
     "text": [
      "Processing <PIL.Image.Image image mode=RGB size=375x500 at 0x14D6528A41C0>: 100%|██████████| 25/25 [00:00<00:00, 408.56 Samples/s]                  \n"
     ]
    },
    {
     "name": "stdout",
     "output_type": "stream",
     "text": [
      "Initialised with 26 image(s) found.\n",
      "Output directory set to train_images_inferred/train_images/62/train_images_inferred/train_images/62."
     ]
    },
    {
     "name": "stderr",
     "output_type": "stream",
     "text": [
      "Processing <PIL.Image.Image image mode=RGB size=500x375 at 0x14D652431FF0>: 100%|██████████| 24/24 [00:00<00:00, 384.59 Samples/s]                 \n"
     ]
    },
    {
     "name": "stdout",
     "output_type": "stream",
     "text": [
      "Initialised with 28 image(s) found.\n",
      "Output directory set to train_images_inferred/train_images/32/train_images_inferred/train_images/32."
     ]
    },
    {
     "name": "stderr",
     "output_type": "stream",
     "text": [
      "Processing <PIL.Image.Image image mode=RGB size=500x333 at 0x14D662C53A00>: 100%|██████████| 22/22 [00:00<00:00, 523.95 Samples/s]\n"
     ]
    },
    {
     "name": "stdout",
     "output_type": "stream",
     "text": [
      "Initialised with 30 image(s) found.\n",
      "Output directory set to train_images_inferred/train_images/35/train_images_inferred/train_images/35."
     ]
    },
    {
     "name": "stderr",
     "output_type": "stream",
     "text": [
      "Processing <PIL.Image.Image image mode=RGB size=500x400 at 0x14D6600DE0E0>: 100%|██████████| 20/20 [00:00<00:00, 475.23 Samples/s]                  \n"
     ]
    },
    {
     "name": "stdout",
     "output_type": "stream",
     "text": [
      "Initialised with 31 image(s) found.\n",
      "Output directory set to train_images_inferred/train_images/30/train_images_inferred/train_images/30."
     ]
    },
    {
     "name": "stderr",
     "output_type": "stream",
     "text": [
      "Processing <PIL.Image.Image image mode=RGB size=500x375 at 0x14D662C535B0>: 100%|██████████| 19/19 [00:00<00:00, 368.07 Samples/s]                 \n"
     ]
    },
    {
     "name": "stdout",
     "output_type": "stream",
     "text": [
      "Initialised with 29 image(s) found.\n",
      "Output directory set to train_images_inferred/train_images/38/train_images_inferred/train_images/38."
     ]
    },
    {
     "name": "stderr",
     "output_type": "stream",
     "text": [
      "Processing <PIL.Image.Image image mode=RGB size=367x500 at 0x14D660099030>: 100%|██████████| 21/21 [00:00<00:00, 367.47 Samples/s]\n"
     ]
    },
    {
     "name": "stdout",
     "output_type": "stream",
     "text": [
      "Initialised with 22 image(s) found.\n",
      "Output directory set to train_images_inferred/train_images/86/train_images_inferred/train_images/86."
     ]
    },
    {
     "name": "stderr",
     "output_type": "stream",
     "text": [
      "Processing <PIL.Image.Image image mode=RGB size=478x500 at 0x14D662C52D70>: 100%|██████████| 28/28 [00:00<00:00, 548.99 Samples/s]                  \n"
     ]
    },
    {
     "name": "stdout",
     "output_type": "stream",
     "text": [
      "Initialised with 8 image(s) found.\n",
      "Output directory set to train_images_inferred/train_images/179/train_images_inferred/train_images/179."
     ]
    },
    {
     "name": "stderr",
     "output_type": "stream",
     "text": [
      "Processing <PIL.Image.Image image mode=RGB size=500x355 at 0x14D65228AEF0>: 100%|██████████| 42/42 [00:00<00:00, 447.78 Samples/s]                  \n"
     ]
    },
    {
     "name": "stdout",
     "output_type": "stream",
     "text": [
      "Initialised with 23 image(s) found.\n",
      "Output directory set to train_images_inferred/train_images/81/train_images_inferred/train_images/81."
     ]
    },
    {
     "name": "stderr",
     "output_type": "stream",
     "text": [
      "Processing <PIL.Image.Image image mode=RGB size=500x374 at 0x14D65228B9A0>: 100%|██████████| 27/27 [00:00<00:00, 408.49 Samples/s]                  \n"
     ]
    },
    {
     "name": "stdout",
     "output_type": "stream",
     "text": [
      "Initialised with 16 image(s) found.\n",
      "Output directory set to train_images_inferred/train_images/129/train_images_inferred/train_images/129."
     ]
    },
    {
     "name": "stderr",
     "output_type": "stream",
     "text": [
      "Processing <PIL.Image.Image image mode=RGB size=500x333 at 0x14D6528A5150>: 100%|██████████| 34/34 [00:00<00:00, 421.00 Samples/s]\n"
     ]
    },
    {
     "name": "stdout",
     "output_type": "stream",
     "text": [
      "Initialised with 10 image(s) found.\n",
      "Output directory set to train_images_inferred/train_images/167/train_images_inferred/train_images/167."
     ]
    },
    {
     "name": "stderr",
     "output_type": "stream",
     "text": [
      "Processing <PIL.Image.Image image mode=RGB size=500x375 at 0x14D652289A20>: 100%|██████████| 40/40 [00:00<00:00, 414.21 Samples/s]\n"
     ]
    },
    {
     "name": "stdout",
     "output_type": "stream",
     "text": [
      "Initialised with 22 image(s) found.\n",
      "Output directory set to train_images_inferred/train_images/89/train_images_inferred/train_images/89."
     ]
    },
    {
     "name": "stderr",
     "output_type": "stream",
     "text": [
      "Processing <PIL.Image.Image image mode=RGB size=500x286 at 0x14D6528A7010>: 100%|██████████| 28/28 [00:00<00:00, 381.21 Samples/s]\n"
     ]
    },
    {
     "name": "stdout",
     "output_type": "stream",
     "text": [
      "Initialised with 18 image(s) found.\n",
      "Output directory set to train_images_inferred/train_images/117/train_images_inferred/train_images/117."
     ]
    },
    {
     "name": "stderr",
     "output_type": "stream",
     "text": [
      "Processing <PIL.Image.Image image mode=RGB size=500x364 at 0x14D6528E1EA0>: 100%|██████████| 32/32 [00:00<00:00, 465.18 Samples/s]\n"
     ]
    },
    {
     "name": "stdout",
     "output_type": "stream",
     "text": [
      "Initialised with 22 image(s) found.\n",
      "Output directory set to train_images_inferred/train_images/84/train_images_inferred/train_images/84."
     ]
    },
    {
     "name": "stderr",
     "output_type": "stream",
     "text": [
      "Processing <PIL.Image.Image image mode=RGB size=500x363 at 0x14D6528A41C0>: 100%|██████████| 28/28 [00:00<00:00, 430.56 Samples/s]                  \n"
     ]
    },
    {
     "name": "stdout",
     "output_type": "stream",
     "text": [
      "Initialised with 18 image(s) found.\n",
      "Output directory set to train_images_inferred/train_images/113/train_images_inferred/train_images/113."
     ]
    },
    {
     "name": "stderr",
     "output_type": "stream",
     "text": [
      "Processing <PIL.Image.Image image mode=RGB size=500x333 at 0x14D662C53160>: 100%|██████████| 32/32 [00:00<00:00, 426.84 Samples/s]\n"
     ]
    },
    {
     "name": "stdout",
     "output_type": "stream",
     "text": [
      "Initialised with 11 image(s) found.\n",
      "Output directory set to train_images_inferred/train_images/159/train_images_inferred/train_images/159."
     ]
    },
    {
     "name": "stderr",
     "output_type": "stream",
     "text": [
      "Processing <PIL.Image.Image image mode=RGB size=333x500 at 0x14D652433790>: 100%|██████████| 39/39 [00:00<00:00, 329.50 Samples/s]                 \n"
     ]
    },
    {
     "name": "stdout",
     "output_type": "stream",
     "text": [
      "Initialised with 27 image(s) found.\n",
      "Output directory set to train_images_inferred/train_images/54/train_images_inferred/train_images/54."
     ]
    },
    {
     "name": "stderr",
     "output_type": "stream",
     "text": [
      "Processing <PIL.Image.Image image mode=RGB size=500x414 at 0x14D6600DE5F0>: 100%|██████████| 23/23 [00:00<00:00, 489.74 Samples/s]                  \n"
     ]
    },
    {
     "name": "stdout",
     "output_type": "stream",
     "text": [
      "Initialised with 12 image(s) found.\n",
      "Output directory set to train_images_inferred/train_images/155/train_images_inferred/train_images/155."
     ]
    },
    {
     "name": "stderr",
     "output_type": "stream",
     "text": [
      "Processing <PIL.Image.Image image mode=RGB size=375x500 at 0x14D679206A40>: 100%|██████████| 38/38 [00:00<00:00, 386.16 Samples/s]                  \n"
     ]
    },
    {
     "name": "stdout",
     "output_type": "stream",
     "text": [
      "Initialised with 5 image(s) found.\n",
      "Output directory set to train_images_inferred/train_images/197/train_images_inferred/train_images/197."
     ]
    },
    {
     "name": "stderr",
     "output_type": "stream",
     "text": [
      "Processing <PIL.Image.Image image mode=RGB size=386x500 at 0x14D6528E15D0>: 100%|██████████| 45/45 [00:00<00:00, 422.12 Samples/s]                  \n"
     ]
    },
    {
     "name": "stdout",
     "output_type": "stream",
     "text": [
      "Initialised with 19 image(s) found.\n",
      "Output directory set to train_images_inferred/train_images/105/train_images_inferred/train_images/105."
     ]
    },
    {
     "name": "stderr",
     "output_type": "stream",
     "text": [
      "Processing <PIL.Image.Image image mode=RGB size=350x266 at 0x14D679206A40>: 100%|██████████| 31/31 [00:00<00:00, 407.73 Samples/s]                  \n"
     ]
    },
    {
     "name": "stdout",
     "output_type": "stream",
     "text": [
      "Initialised with 6 image(s) found.\n",
      "Output directory set to train_images_inferred/train_images/193/train_images_inferred/train_images/193."
     ]
    },
    {
     "name": "stderr",
     "output_type": "stream",
     "text": [
      "Processing <PIL.Image.Image image mode=RGB size=500x451 at 0x14D652289240>: 100%|██████████| 44/44 [00:00<00:00, 405.02 Samples/s]                  \n"
     ]
    },
    {
     "name": "stdout",
     "output_type": "stream",
     "text": [
      "Initialised with 20 image(s) found.\n",
      "Output directory set to train_images_inferred/train_images/101/train_images_inferred/train_images/101."
     ]
    },
    {
     "name": "stderr",
     "output_type": "stream",
     "text": [
      "Processing <PIL.Image.Image image mode=RGB size=500x333 at 0x14D652432200>: 100%|██████████| 30/30 [00:00<00:00, 471.49 Samples/s]                  \n"
     ]
    },
    {
     "name": "stdout",
     "output_type": "stream",
     "text": [
      "Initialised with 13 image(s) found.\n",
      "Output directory set to train_images_inferred/train_images/147/train_images_inferred/train_images/147."
     ]
    },
    {
     "name": "stderr",
     "output_type": "stream",
     "text": [
      "Processing <PIL.Image.Image image mode=RGB size=500x375 at 0x14D6528E2890>: 100%|██████████| 37/37 [00:00<00:00, 385.67 Samples/s]\n"
     ]
    },
    {
     "name": "stdout",
     "output_type": "stream",
     "text": [
      "Initialised with 14 image(s) found.\n",
      "Output directory set to train_images_inferred/train_images/143/train_images_inferred/train_images/143."
     ]
    },
    {
     "name": "stderr",
     "output_type": "stream",
     "text": [
      "Processing <PIL.Image.Image image mode=RGB size=500x333 at 0x14D6600DE560>: 100%|██████████| 36/36 [00:00<00:00, 409.50 Samples/s]        \n"
     ]
    },
    {
     "name": "stdout",
     "output_type": "stream",
     "text": [
      "Initialised with 27 image(s) found.\n",
      "Output directory set to train_images_inferred/train_images/57/train_images_inferred/train_images/57."
     ]
    },
    {
     "name": "stderr",
     "output_type": "stream",
     "text": [
      "Processing <PIL.Image.Image image mode=RGB size=500x392 at 0x14D6600DD1E0>: 100%|██████████| 23/23 [00:00<00:00, 416.85 Samples/s]                  \n"
     ]
    },
    {
     "name": "stdout",
     "output_type": "stream",
     "text": [
      "Initialised with 7 image(s) found.\n",
      "Output directory set to train_images_inferred/train_images/185/train_images_inferred/train_images/185."
     ]
    },
    {
     "name": "stderr",
     "output_type": "stream",
     "text": [
      "Processing <PIL.JpegImagePlugin.JpegImageFile image mode=RGB size=500x468 at 0x14D6524325F0>: 100%|██████████| 43/43 [00:00<00:00, 497.68 Samples/s]\n"
     ]
    },
    {
     "name": "stdout",
     "output_type": "stream",
     "text": [
      "Initialised with 8 image(s) found.\n",
      "Output directory set to train_images_inferred/train_images/181/train_images_inferred/train_images/181."
     ]
    },
    {
     "name": "stderr",
     "output_type": "stream",
     "text": [
      "Processing <PIL.Image.Image image mode=RGB size=500x353 at 0x14D6528AA4A0>: 100%|██████████| 42/42 [00:00<00:00, 549.17 Samples/s]                  \n"
     ]
    },
    {
     "name": "stdout",
     "output_type": "stream",
     "text": [
      "Initialised with 27 image(s) found.\n",
      "Output directory set to train_images_inferred/train_images/52/train_images_inferred/train_images/52."
     ]
    },
    {
     "name": "stderr",
     "output_type": "stream",
     "text": [
      "Processing <PIL.Image.Image image mode=RGB size=500x401 at 0x14D6528A5090>: 100%|██████████| 23/23 [00:00<00:00, 457.12 Samples/s]\n"
     ]
    },
    {
     "name": "stdout",
     "output_type": "stream",
     "text": [
      "Initialised with 31 image(s) found.\n",
      "Output directory set to train_images_inferred/train_images/22/train_images_inferred/train_images/22."
     ]
    },
    {
     "name": "stderr",
     "output_type": "stream",
     "text": [
      "Processing <PIL.Image.Image image mode=RGB size=500x334 at 0x14D652431FF0>: 100%|██████████| 19/19 [00:00<00:00, 416.94 Samples/s]                  \n"
     ]
    },
    {
     "name": "stdout",
     "output_type": "stream",
     "text": [
      "Initialised with 15 image(s) found.\n",
      "Output directory set to train_images_inferred/train_images/131/train_images_inferred/train_images/131."
     ]
    },
    {
     "name": "stderr",
     "output_type": "stream",
     "text": [
      "Processing <PIL.Image.Image image mode=RGB size=500x333 at 0x14D662C52560>: 100%|██████████| 35/35 [00:00<00:00, 363.93 Samples/s]                  \n"
     ]
    },
    {
     "name": "stdout",
     "output_type": "stream",
     "text": [
      "Initialised with 9 image(s) found.\n",
      "Output directory set to train_images_inferred/train_images/173/train_images_inferred/train_images/173."
     ]
    },
    {
     "name": "stderr",
     "output_type": "stream",
     "text": [
      "Processing <PIL.Image.Image image mode=RGB size=500x388 at 0x14D6528AAD70>: 100%|██████████| 41/41 [00:00<00:00, 477.29 Samples/s]                  \n"
     ]
    },
    {
     "name": "stdout",
     "output_type": "stream",
     "text": [
      "Initialised with 31 image(s) found.\n",
      "Output directory set to train_images_inferred/train_images/25/train_images_inferred/train_images/25."
     ]
    },
    {
     "name": "stderr",
     "output_type": "stream",
     "text": [
      "Processing <PIL.Image.Image image mode=RGB size=500x333 at 0x14D652288D30>: 100%|██████████| 19/19 [00:00<00:00, 402.14 Samples/s]\n"
     ]
    },
    {
     "name": "stdout",
     "output_type": "stream",
     "text": [
      "Initialised with 32 image(s) found.\n",
      "Output directory set to train_images_inferred/train_images/20/train_images_inferred/train_images/20."
     ]
    },
    {
     "name": "stderr",
     "output_type": "stream",
     "text": [
      "Processing <PIL.Image.Image image mode=RGB size=500x333 at 0x14D652289EA0>: 100%|██████████| 18/18 [00:00<00:00, 457.53 Samples/s]                \n"
     ]
    },
    {
     "name": "stdout",
     "output_type": "stream",
     "text": [
      "Initialised with 34 image(s) found.\n",
      "Output directory set to train_images_inferred/train_images/9/train_images_inferred/train_images/9."
     ]
    },
    {
     "name": "stderr",
     "output_type": "stream",
     "text": [
      "Processing <PIL.Image.Image image mode=RGB size=500x352 at 0x14D65228A440>: 100%|██████████| 16/16 [00:00<00:00, 378.70 Samples/s]                 \n"
     ]
    },
    {
     "name": "stdout",
     "output_type": "stream",
     "text": [
      "Initialised with 31 image(s) found.\n",
      "Output directory set to train_images_inferred/train_images/28/train_images_inferred/train_images/28."
     ]
    },
    {
     "name": "stderr",
     "output_type": "stream",
     "text": [
      "Processing <PIL.Image.Image image mode=RGB size=333x500 at 0x14D6528E1EA0>: 100%|██████████| 19/19 [00:00<00:00, 330.60 Samples/s]                 \n"
     ]
    },
    {
     "name": "stdout",
     "output_type": "stream",
     "text": [
      "Initialised with 24 image(s) found.\n",
      "Output directory set to train_images_inferred/train_images/76/train_images_inferred/train_images/76."
     ]
    },
    {
     "name": "stderr",
     "output_type": "stream",
     "text": [
      "Processing <PIL.Image.Image image mode=RGB size=500x353 at 0x14D652431CC0>: 100%|██████████| 26/26 [00:00<00:00, 437.48 Samples/s]                  \n"
     ]
    },
    {
     "name": "stdout",
     "output_type": "stream",
     "text": [
      "Initialised with 24 image(s) found.\n",
      "Output directory set to train_images_inferred/train_images/71/train_images_inferred/train_images/71."
     ]
    },
    {
     "name": "stderr",
     "output_type": "stream",
     "text": [
      "Processing <PIL.Image.Image image mode=RGB size=500x333 at 0x14D6528A50F0>: 100%|██████████| 26/26 [00:00<00:00, 382.02 Samples/s]                  \n"
     ]
    },
    {
     "name": "stdout",
     "output_type": "stream",
     "text": [
      "Initialised with 23 image(s) found.\n",
      "Output directory set to train_images_inferred/train_images/79/train_images_inferred/train_images/79."
     ]
    },
    {
     "name": "stderr",
     "output_type": "stream",
     "text": [
      "Processing <PIL.Image.Image image mode=RGB size=500x389 at 0x14D6528A5210>: 100%|██████████| 27/27 [00:00<00:00, 460.62 Samples/s]\n"
     ]
    },
    {
     "name": "stdout",
     "output_type": "stream",
     "text": [
      "Initialised with 29 image(s) found.\n",
      "Output directory set to train_images_inferred/train_images/44/train_images_inferred/train_images/44."
     ]
    },
    {
     "name": "stderr",
     "output_type": "stream",
     "text": [
      "Processing <PIL.Image.Image image mode=RGB size=500x375 at 0x14D6600DE650>: 100%|██████████| 21/21 [00:00<00:00, 439.85 Samples/s]                  \n"
     ]
    },
    {
     "name": "stdout",
     "output_type": "stream",
     "text": [
      "Initialised with 10 image(s) found.\n",
      "Output directory set to train_images_inferred/train_images/168/train_images_inferred/train_images/168."
     ]
    },
    {
     "name": "stderr",
     "output_type": "stream",
     "text": [
      "Processing <PIL.Image.Image image mode=RGB size=500x318 at 0x14D6528E21D0>: 100%|██████████| 40/40 [00:00<00:00, 476.16 Samples/s]                  \n"
     ]
    },
    {
     "name": "stdout",
     "output_type": "stream",
     "text": [
      "Initialised with 17 image(s) found.\n",
      "Output directory set to train_images_inferred/train_images/118/train_images_inferred/train_images/118."
     ]
    },
    {
     "name": "stderr",
     "output_type": "stream",
     "text": [
      "Processing <PIL.Image.Image image mode=RGB size=500x380 at 0x14D6528A50F0>: 100%|██████████| 33/33 [00:00<00:00, 472.96 Samples/s]                  \n"
     ]
    },
    {
     "name": "stdout",
     "output_type": "stream",
     "text": [
      "Initialised with 28 image(s) found.\n",
      "Output directory set to train_images_inferred/train_images/47/train_images_inferred/train_images/47."
     ]
    },
    {
     "name": "stderr",
     "output_type": "stream",
     "text": [
      "Processing <PIL.Image.Image image mode=RGB size=500x375 at 0x14D6600DE290>: 100%|██████████| 22/22 [00:00<00:00, 367.19 Samples/s]\n"
     ]
    },
    {
     "name": "stdout",
     "output_type": "stream",
     "text": [
      "Initialised with 12 image(s) found.\n",
      "Output directory set to train_images_inferred/train_images/156/train_images_inferred/train_images/156."
     ]
    },
    {
     "name": "stderr",
     "output_type": "stream",
     "text": [
      "Processing <PIL.JpegImagePlugin.JpegImageFile image mode=RGB size=363x500 at 0x14D6524334C0>: 100%|██████████| 38/38 [00:00<00:00, 437.04 Samples/s]\n"
     ]
    },
    {
     "name": "stdout",
     "output_type": "stream",
     "text": [
      "Initialised with 21 image(s) found.\n",
      "Output directory set to train_images_inferred/train_images/95/train_images_inferred/train_images/95."
     ]
    },
    {
     "name": "stderr",
     "output_type": "stream",
     "text": [
      "Processing <PIL.Image.Image image mode=RGB size=500x388 at 0x14D6600DE680>: 100%|██████████| 29/29 [00:00<00:00, 460.00 Samples/s]                  \n"
     ]
    },
    {
     "name": "stdout",
     "output_type": "stream",
     "text": [
      "Initialised with 5 image(s) found.\n",
      "Output directory set to train_images_inferred/train_images/198/train_images_inferred/train_images/198."
     ]
    },
    {
     "name": "stderr",
     "output_type": "stream",
     "text": [
      "Processing <PIL.Image.Image image mode=RGB size=500x334 at 0x14D6528A5030>: 100%|██████████| 45/45 [00:00<00:00, 409.50 Samples/s]                  \n"
     ]
    },
    {
     "name": "stdout",
     "output_type": "stream",
     "text": [
      "Initialised with 29 image(s) found.\n",
      "Output directory set to train_images_inferred/train_images/42/train_images_inferred/train_images/42."
     ]
    },
    {
     "name": "stderr",
     "output_type": "stream",
     "text": [
      "Processing <PIL.Image.Image image mode=RGB size=431x500 at 0x14D662C53A00>: 100%|██████████| 21/21 [00:00<00:00, 423.47 Samples/s]                  \n"
     ]
    },
    {
     "name": "stdout",
     "output_type": "stream",
     "text": [
      "Initialised with 19 image(s) found.\n",
      "Output directory set to train_images_inferred/train_images/106/train_images_inferred/train_images/106."
     ]
    },
    {
     "name": "stderr",
     "output_type": "stream",
     "text": [
      "Processing <PIL.Image.Image image mode=RGB size=500x400 at 0x14D662C52C20>: 100%|██████████| 31/31 [00:00<00:00, 387.35 Samples/s]                  \n"
     ]
    },
    {
     "name": "stdout",
     "output_type": "stream",
     "text": [
      "Initialised with 31 image(s) found.\n",
      "Output directory set to train_images_inferred/train_images/12/train_images_inferred/train_images/12."
     ]
    },
    {
     "name": "stderr",
     "output_type": "stream",
     "text": [
      "Processing <PIL.Image.Image image mode=RGB size=349x500 at 0x14D662C52C80>: 100%|██████████| 19/19 [00:00<00:00, 407.89 Samples/s]                  \n"
     ]
    },
    {
     "name": "stdout",
     "output_type": "stream",
     "text": [
      "Initialised with 22 image(s) found.\n",
      "Output directory set to train_images_inferred/train_images/90/train_images_inferred/train_images/90."
     ]
    },
    {
     "name": "stderr",
     "output_type": "stream",
     "text": [
      "Processing <PIL.Image.Image image mode=RGB size=500x333 at 0x14D6528A6CE0>: 100%|██████████| 28/28 [00:00<00:00, 435.62 Samples/s]\n"
     ]
    },
    {
     "name": "stdout",
     "output_type": "stream",
     "text": [
      "Initialised with 20 image(s) found.\n",
      "Output directory set to train_images_inferred/train_images/102/train_images_inferred/train_images/102."
     ]
    },
    {
     "name": "stderr",
     "output_type": "stream",
     "text": [
      "Processing <PIL.Image.Image image mode=RGB size=319x500 at 0x14D679206A40>: 100%|██████████| 30/30 [00:00<00:00, 429.68 Samples/s]                  \n"
     ]
    },
    {
     "name": "stdout",
     "output_type": "stream",
     "text": [
      "Initialised with 13 image(s) found.\n",
      "Output directory set to train_images_inferred/train_images/148/train_images_inferred/train_images/148."
     ]
    },
    {
     "name": "stderr",
     "output_type": "stream",
     "text": [
      "Processing <PIL.Image.Image image mode=RGB size=500x335 at 0x14D6600DE620>: 100%|██████████| 37/37 [00:00<00:00, 471.42 Samples/s]\n"
     ]
    },
    {
     "name": "stdout",
     "output_type": "stream",
     "text": [
      "Initialised with 13 image(s) found.\n",
      "Output directory set to train_images_inferred/train_images/144/train_images_inferred/train_images/144."
     ]
    },
    {
     "name": "stderr",
     "output_type": "stream",
     "text": [
      "Processing <PIL.Image.Image image mode=RGB size=500x333 at 0x14D6528E0B50>: 100%|██████████| 37/37 [00:00<00:00, 463.10 Samples/s]                  \n"
     ]
    },
    {
     "name": "stdout",
     "output_type": "stream",
     "text": [
      "Initialised with 7 image(s) found.\n",
      "Output directory set to train_images_inferred/train_images/186/train_images_inferred/train_images/186."
     ]
    },
    {
     "name": "stderr",
     "output_type": "stream",
     "text": [
      "Processing <PIL.Image.Image image mode=RGB size=317x500 at 0x14D6524337F0>: 100%|██████████| 43/43 [00:00<00:00, 478.47 Samples/s]                  \n"
     ]
    },
    {
     "name": "stdout",
     "output_type": "stream",
     "text": [
      "Initialised with 20 image(s) found.\n",
      "Output directory set to train_images_inferred/train_images/98/train_images_inferred/train_images/98."
     ]
    },
    {
     "name": "stderr",
     "output_type": "stream",
     "text": [
      "Processing <PIL.Image.Image image mode=RGB size=500x375 at 0x14D662C52A10>: 100%|██████████| 30/30 [00:00<00:00, 347.45 Samples/s]                  \n"
     ]
    },
    {
     "name": "stdout",
     "output_type": "stream",
     "text": [
      "Initialised with 8 image(s) found.\n",
      "Output directory set to train_images_inferred/train_images/182/train_images_inferred/train_images/182."
     ]
    },
    {
     "name": "stderr",
     "output_type": "stream",
     "text": [
      "Processing <PIL.Image.Image image mode=RGB size=339x500 at 0x14D652433910>: 100%|██████████| 42/42 [00:00<00:00, 405.82 Samples/s]\n"
     ]
    },
    {
     "name": "stdout",
     "output_type": "stream",
     "text": [
      "Initialised with 15 image(s) found.\n",
      "Output directory set to train_images_inferred/train_images/136/train_images_inferred/train_images/136."
     ]
    },
    {
     "name": "stderr",
     "output_type": "stream",
     "text": [
      "Processing <PIL.Image.Image image mode=RGB size=500x374 at 0x14D6528E1FC0>: 100%|██████████| 35/35 [00:00<00:00, 415.83 Samples/s]                  \n"
     ]
    },
    {
     "name": "stdout",
     "output_type": "stream",
     "text": [
      "Initialised with 33 image(s) found.\n",
      "Output directory set to train_images_inferred/train_images/15/train_images_inferred/train_images/15."
     ]
    },
    {
     "name": "stderr",
     "output_type": "stream",
     "text": [
      "Processing <PIL.Image.Image image mode=RGB size=500x357 at 0x14D6528A6E90>: 100%|██████████| 17/17 [00:00<00:00, 395.47 Samples/s]\n"
     ]
    },
    {
     "name": "stdout",
     "output_type": "stream",
     "text": [
      "Initialised with 21 image(s) found.\n",
      "Output directory set to train_images_inferred/train_images/93/train_images_inferred/train_images/93."
     ]
    },
    {
     "name": "stderr",
     "output_type": "stream",
     "text": [
      "Processing <PIL.Image.Image image mode=RGB size=500x375 at 0x14D6528AAA10>: 100%|██████████| 29/29 [00:00<00:00, 389.69 Samples/s]\n"
     ]
    },
    {
     "name": "stdout",
     "output_type": "stream",
     "text": [
      "Initialised with 15 image(s) found.\n",
      "Output directory set to train_images_inferred/train_images/132/train_images_inferred/train_images/132."
     ]
    },
    {
     "name": "stderr",
     "output_type": "stream",
     "text": [
      "Processing <PIL.Image.Image image mode=RGB size=500x375 at 0x14D652433250>: 100%|██████████| 35/35 [00:00<00:00, 400.12 Samples/s]                  \n"
     ]
    },
    {
     "name": "stdout",
     "output_type": "stream",
     "text": [
      "Initialised with 9 image(s) found.\n",
      "Output directory set to train_images_inferred/train_images/174/train_images_inferred/train_images/174."
     ]
    },
    {
     "name": "stderr",
     "output_type": "stream",
     "text": [
      "Processing <PIL.Image.Image image mode=RGB size=500x488 at 0x14D6528E0DC0>: 100%|██████████| 41/41 [00:00<00:00, 432.18 Samples/s]                  \n"
     ]
    },
    {
     "name": "stdout",
     "output_type": "stream",
     "text": [
      "Initialised with 34 image(s) found.\n",
      "Output directory set to train_images_inferred/train_images/10/train_images_inferred/train_images/10."
     ]
    },
    {
     "name": "stderr",
     "output_type": "stream",
     "text": [
      "Processing <PIL.Image.Image image mode=RGB size=500x332 at 0x14D652431E70>: 100%|██████████| 16/16 [00:00<00:00, 383.56 Samples/s]                 \n"
     ]
    },
    {
     "name": "stdout",
     "output_type": "stream",
     "text": [
      "Initialised with 10 image(s) found.\n",
      "Output directory set to train_images_inferred/train_images/170/train_images_inferred/train_images/170."
     ]
    },
    {
     "name": "stderr",
     "output_type": "stream",
     "text": [
      "Processing <PIL.Image.Image image mode=RGB size=480x465 at 0x14D6528E1570>: 100%|██████████| 40/40 [00:00<00:00, 481.45 Samples/s]                  \n"
     ]
    },
    {
     "name": "stdout",
     "output_type": "stream",
     "text": [
      "Initialised with 23 image(s) found.\n",
      "Output directory set to train_images_inferred/train_images/8/train_images_inferred/train_images/8."
     ]
    },
    {
     "name": "stderr",
     "output_type": "stream",
     "text": [
      "Processing <PIL.Image.Image image mode=RGB size=500x293 at 0x14D6600DE650>: 100%|██████████| 27/27 [00:00<00:00, 454.95 Samples/s]                  \n"
     ]
    },
    {
     "name": "stdout",
     "output_type": "stream",
     "text": [
      "Initialised with 17 image(s) found.\n",
      "Output directory set to train_images_inferred/train_images/120/train_images_inferred/train_images/120."
     ]
    },
    {
     "name": "stderr",
     "output_type": "stream",
     "text": [
      "Processing <PIL.JpegImagePlugin.JpegImageFile image mode=RGB size=500x375 at 0x14D6600DDF90>: 100%|██████████| 33/33 [00:00<00:00, 304.89 Samples/s]\n"
     ]
    },
    {
     "name": "stdout",
     "output_type": "stream",
     "text": [
      "Initialised with 20 image(s) found.\n",
      "Output directory set to train_images_inferred/train_images/18/train_images_inferred/train_images/18."
     ]
    },
    {
     "name": "stderr",
     "output_type": "stream",
     "text": [
      "Processing <PIL.Image.Image image mode=RGB size=500x333 at 0x14D662C52A10>: 100%|██████████| 30/30 [00:00<00:00, 507.88 Samples/s]                  \n"
     ]
    },
    {
     "name": "stdout",
     "output_type": "stream",
     "text": [
      "Initialised with 11 image(s) found.\n",
      "Output directory set to train_images_inferred/train_images/162/train_images_inferred/train_images/162."
     ]
    },
    {
     "name": "stderr",
     "output_type": "stream",
     "text": [
      "Processing <PIL.Image.Image image mode=RGB size=500x386 at 0x14D6528A5090>: 100%|██████████| 39/39 [00:00<00:00, 373.56 Samples/s]                \n"
     ]
    },
    {
     "name": "stdout",
     "output_type": "stream",
     "text": [
      "Initialised with 25 image(s) found.\n",
      "Output directory set to train_images_inferred/train_images/66/train_images_inferred/train_images/66."
     ]
    },
    {
     "name": "stderr",
     "output_type": "stream",
     "text": [
      "Processing <PIL.Image.Image image mode=RGB size=500x357 at 0x14D6528E1570>: 100%|██████████| 25/25 [00:00<00:00, 353.83 Samples/s]                  \n"
     ]
    },
    {
     "name": "stdout",
     "output_type": "stream",
     "text": [
      "Initialised with 26 image(s) found.\n",
      "Output directory set to train_images_inferred/train_images/61/train_images_inferred/train_images/61."
     ]
    },
    {
     "name": "stderr",
     "output_type": "stream",
     "text": [
      "Processing <PIL.Image.Image image mode=RGB size=500x375 at 0x14D6600DD9F0>: 100%|██████████| 24/24 [00:00<00:00, 423.19 Samples/s]                  "
     ]
    },
    {
     "name": "stdout",
     "output_type": "stream",
     "text": [
      "Augmentation completed.\n"
     ]
    },
    {
     "name": "stderr",
     "output_type": "stream",
     "text": [
      "\n"
     ]
    }
   ],
   "source": [
    "# import os\n",
    "# from Augmentor import Pipeline\n",
    "\n",
    "# # Set the paths\n",
    "# input_directory = \"train_images_inferred/train_images\"\n",
    "# target_images_per_subfolder = 50\n",
    "\n",
    "# # Function to perform augmentation on a single image\n",
    "# def augment_images(input_path):\n",
    "#     # Count the number of existing images in the subfolder\n",
    "#     num_existing_images = len(os.listdir(input_path))\n",
    "\n",
    "#     # If the number of existing images is less than the target, perform augmentation\n",
    "#     if num_existing_images < target_images_per_subfolder:\n",
    "#         # Create an Augmentor pipeline for augmentation\n",
    "#         pipeline = Pipeline(source_directory=input_path)\n",
    "#         # Define augmentation operations (you can customize this)\n",
    "#         pipeline.rotate(probability=0.7, max_left_rotation=20, max_right_rotation=20)\n",
    "#         pipeline.zoom_random(probability=0.5, percentage_area=0.8)\n",
    "#         pipeline.flip_left_right(probability=0.5)\n",
    "\n",
    "#         # Number of augmented images to generate\n",
    "#         num_augmented_images = target_images_per_subfolder - num_existing_images\n",
    "\n",
    "#         # Execute augmentation and save in the input directory\n",
    "#         pipeline.sample(num_augmented_images)\n",
    "\n",
    "# # Iterate through subfolders and augment images\n",
    "# for subfolder in os.listdir(input_directory):\n",
    "#     subfolder_path = os.path.join(input_directory, subfolder)\n",
    "\n",
    "#     # Check if it's a directory\n",
    "#     if os.path.isdir(subfolder_path):\n",
    "#         # Perform augmentation if needed\n",
    "#         augment_images(subfolder_path)\n",
    "\n",
    "# print(\"Augmentation completed.\")\n",
    "\n",
    "\n",
    "\n",
    "import os\n",
    "from Augmentor import Pipeline\n",
    "\n",
    "input_directory = \"train_images_inferred/train_images\"\n",
    "target_images_per_subfolder = 50\n",
    "\n",
    "\n",
    "def augment_images(input_path):\n",
    "    \n",
    "    num_existing_images = len(os.listdir(input_path))\n",
    "\n",
    "    if num_existing_images < target_images_per_subfolder:\n",
    "\n",
    "        pipeline = Pipeline(source_directory=input_path)\n",
    "\n",
    "        # Define augmentation operations\n",
    "        pipeline.rotate(probability=0.7, max_left_rotation=20, max_right_rotation=20)\n",
    "        pipeline.zoom_random(probability=0.5, percentage_area=0.8)\n",
    "        pipeline.flip_left_right(probability=0.5)\n",
    "\n",
    "        # Number of augmented images \n",
    "        num_augmented_images = target_images_per_subfolder - num_existing_images\n",
    "\n",
    "        pipeline.sample(num_augmented_images)\n",
    "\n",
    "for subfolder in os.listdir(input_directory):\n",
    "    subfolder_path = os.path.join(input_directory, subfolder)\n",
    "\n",
    "    # Check if it's a directory\n",
    "    if os.path.isdir(subfolder_path):\n",
    "\n",
    "        augment_images(subfolder_path)\n",
    "\n",
    "print(\"Augmentation completed.\")\n",
    "\n",
    "\n",
    "\n",
    "\n",
    "\n"
   ]
  },
  {
   "cell_type": "code",
   "execution_count": 4,
   "id": "2f3e9e43-4397-4ed6-b6e6-399595c78f74",
   "metadata": {},
   "outputs": [],
   "source": [
    "## Flatten\n",
    "\n",
    "import shutil\n",
    "\n",
    "def move_images_from_subdir_to_parent(subdirectory):\n",
    "    # Get the list of image files in the subdirectory\n",
    "    image_files = [f for f in os.listdir(subdirectory) if os.path.isfile(os.path.join(subdirectory, f))]\n",
    "\n",
    "    # Move each image to the parent directory\n",
    "    for image_file in image_files:\n",
    "        source_path = os.path.join(subdirectory, image_file)\n",
    "        destination_path = os.path.join(os.path.dirname(subdirectory), image_file)\n",
    "        shutil.move(source_path, destination_path)\n",
    "\n",
    "for i in range(1, 201):\n",
    "    subdirectory_path = f'train_images_inferred_bad5/train_images/{i}/output'\n",
    "    move_images_from_subdir_to_parent(subdirectory_path)"
   ]
  },
  {
   "cell_type": "code",
   "execution_count": null,
   "id": "bc2a6bc8-b746-495f-9cb2-373f3999eb0b",
   "metadata": {},
   "outputs": [],
   "source": []
  }
 ],
 "metadata": {
  "kernelspec": {
   "display_name": "Python 3 (ipykernel)",
   "language": "python",
   "name": "python3"
  },
  "language_info": {
   "codemirror_mode": {
    "name": "ipython",
    "version": 3
   },
   "file_extension": ".py",
   "mimetype": "text/x-python",
   "name": "python",
   "nbconvert_exporter": "python",
   "pygments_lexer": "ipython3",
   "version": "3.9.7"
  }
 },
 "nbformat": 4,
 "nbformat_minor": 5
}
