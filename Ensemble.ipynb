{
 "cells": [
  {
   "cell_type": "code",
   "execution_count": 1,
   "id": "cc7b49d4-f489-40b1-86d7-af869d4b2dd5",
   "metadata": {},
   "outputs": [],
   "source": [
    "import pandas as pd\n",
    "import numpy as np\n",
    "import os\n",
    "import cv2\n",
    "from  matplotlib import pyplot as plt\n",
    "import matplotlib.image as mpimg\n",
    "from PIL import Image\n",
    "import tensorflow as tf\n",
    "from tensorflow.keras import datasets, layers, models\n",
    "from sklearn.model_selection import train_test_split\n",
    "from tensorflow.keras.applications import InceptionV3\n",
    "from tensorflow.keras.applications import VGG16\n",
    "from tensorflow.keras import models, layers\n",
    "from tensorflow.keras import layers, optimizers \n",
    "from tensorflow.keras.preprocessing.image import ImageDataGenerator, array_to_img, img_to_array, load_img\n",
    "from tensorflow.keras.regularizers import l2"
   ]
  },
  {
   "cell_type": "code",
   "execution_count": 2,
   "id": "2f90945e-d16b-4a60-bda9-d37bee22afaf",
   "metadata": {},
   "outputs": [],
   "source": [
    "# local paths \n",
    "training_dir = \"train_images_inferred_augmented/train_images\" #This is the inferred augmented dir\n",
    "testing_dir = \"test_images\" "
   ]
  },
  {
   "cell_type": "code",
   "execution_count": 3,
   "id": "8f77e003-89dd-4bd2-b56a-24ee190d8231",
   "metadata": {},
   "outputs": [],
   "source": [
    "# Import data\n",
    "class_names_dict = np.load(\"class_names.npy\", allow_pickle=True).item()\n",
    "attributes_npy = np.load(\"attributes.npy\", allow_pickle=True)\n",
    "attributes_df = pd.read_csv(\"attributes.txt\", header=None, index_col = 0, sep=\" |::\", names=(\"attribute\", \"value\"), engine='python')\n",
    "training_labels_df = pd.read_csv(\"train_images.csv\", header = 0)\n",
    "test_images_paths = pd.read_csv(\"test_images_path.csv\", header = 0)\n",
    "test_images_sample = pd.read_csv(\"test_images_sample.csv\", header = 0)"
   ]
  },
  {
   "cell_type": "code",
   "execution_count": 4,
   "id": "2e61f7a0-67e1-4ab0-b4a0-b27864bb8110",
   "metadata": {},
   "outputs": [
    {
     "name": "stderr",
     "output_type": "stream",
     "text": [
      "2023-12-14 15:12:28.214125: I tensorflow/core/platform/cpu_feature_guard.cc:193] This TensorFlow binary is optimized with oneAPI Deep Neural Network Library (oneDNN) to use the following CPU instructions in performance-critical operations:  SSE4.1 SSE4.2\n",
      "To enable them in other operations, rebuild TensorFlow with the appropriate compiler flags.\n"
     ]
    },
    {
     "ename": "TypeError",
     "evalue": "weight_decay is not a valid argument, kwargs should be empty  for `optimizer_experimental.Optimizer`.",
     "output_type": "error",
     "traceback": [
      "\u001b[0;31m---------------------------------------------------------------------------\u001b[0m",
      "\u001b[0;31mTypeError\u001b[0m                                 Traceback (most recent call last)",
      "\u001b[0;32m/var/folders/q9/jvtr2p8s6sn6wt933mh1tyfm0000gn/T/ipykernel_7708/2044042459.py\u001b[0m in \u001b[0;36m<module>\u001b[0;34m\u001b[0m\n\u001b[0;32m----> 1\u001b[0;31m \u001b[0mmodel_VGG\u001b[0m \u001b[0;34m=\u001b[0m \u001b[0mtf\u001b[0m\u001b[0;34m.\u001b[0m\u001b[0mkeras\u001b[0m\u001b[0;34m.\u001b[0m\u001b[0mmodels\u001b[0m\u001b[0;34m.\u001b[0m\u001b[0mload_model\u001b[0m\u001b[0;34m(\u001b[0m\u001b[0;34m'best_model_33.h5'\u001b[0m\u001b[0;34m)\u001b[0m\u001b[0;34m\u001b[0m\u001b[0;34m\u001b[0m\u001b[0m\n\u001b[0m\u001b[1;32m      2\u001b[0m \u001b[0mmodel_DenseNet\u001b[0m \u001b[0;34m=\u001b[0m \u001b[0mtf\u001b[0m\u001b[0;34m.\u001b[0m\u001b[0mkeras\u001b[0m\u001b[0;34m.\u001b[0m\u001b[0mmodels\u001b[0m\u001b[0;34m.\u001b[0m\u001b[0mload_model\u001b[0m\u001b[0;34m(\u001b[0m\u001b[0;34m'best_model_densenet_43.h5'\u001b[0m\u001b[0;34m)\u001b[0m\u001b[0;34m\u001b[0m\u001b[0;34m\u001b[0m\u001b[0m\n\u001b[1;32m      3\u001b[0m \u001b[0mmodel_InceptionV3\u001b[0m \u001b[0;34m=\u001b[0m \u001b[0mtf\u001b[0m\u001b[0;34m.\u001b[0m\u001b[0mkeras\u001b[0m\u001b[0;34m.\u001b[0m\u001b[0mmodels\u001b[0m\u001b[0;34m.\u001b[0m\u001b[0mload_model\u001b[0m\u001b[0;34m(\u001b[0m\u001b[0;34m'best_model_49.h5'\u001b[0m\u001b[0;34m)\u001b[0m\u001b[0;34m\u001b[0m\u001b[0;34m\u001b[0m\u001b[0m\n",
      "\u001b[0;32m~/opt/anaconda3/lib/python3.9/site-packages/keras/utils/traceback_utils.py\u001b[0m in \u001b[0;36merror_handler\u001b[0;34m(*args, **kwargs)\u001b[0m\n\u001b[1;32m     65\u001b[0m     \u001b[0;32mexcept\u001b[0m \u001b[0mException\u001b[0m \u001b[0;32mas\u001b[0m \u001b[0me\u001b[0m\u001b[0;34m:\u001b[0m  \u001b[0;31m# pylint: disable=broad-except\u001b[0m\u001b[0;34m\u001b[0m\u001b[0;34m\u001b[0m\u001b[0m\n\u001b[1;32m     66\u001b[0m       \u001b[0mfiltered_tb\u001b[0m \u001b[0;34m=\u001b[0m \u001b[0m_process_traceback_frames\u001b[0m\u001b[0;34m(\u001b[0m\u001b[0me\u001b[0m\u001b[0;34m.\u001b[0m\u001b[0m__traceback__\u001b[0m\u001b[0;34m)\u001b[0m\u001b[0;34m\u001b[0m\u001b[0;34m\u001b[0m\u001b[0m\n\u001b[0;32m---> 67\u001b[0;31m       \u001b[0;32mraise\u001b[0m \u001b[0me\u001b[0m\u001b[0;34m.\u001b[0m\u001b[0mwith_traceback\u001b[0m\u001b[0;34m(\u001b[0m\u001b[0mfiltered_tb\u001b[0m\u001b[0;34m)\u001b[0m \u001b[0;32mfrom\u001b[0m \u001b[0;32mNone\u001b[0m\u001b[0;34m\u001b[0m\u001b[0;34m\u001b[0m\u001b[0m\n\u001b[0m\u001b[1;32m     68\u001b[0m     \u001b[0;32mfinally\u001b[0m\u001b[0;34m:\u001b[0m\u001b[0;34m\u001b[0m\u001b[0;34m\u001b[0m\u001b[0m\n\u001b[1;32m     69\u001b[0m       \u001b[0;32mdel\u001b[0m \u001b[0mfiltered_tb\u001b[0m\u001b[0;34m\u001b[0m\u001b[0;34m\u001b[0m\u001b[0m\n",
      "\u001b[0;32m~/opt/anaconda3/lib/python3.9/site-packages/keras/optimizers/optimizer_experimental/optimizer.py\u001b[0m in \u001b[0;36m_process_kwargs\u001b[0;34m(self, kwargs)\u001b[0m\n\u001b[1;32m     92\u001b[0m             \", please check the docstring for valid arguments.\", k)\n\u001b[1;32m     93\u001b[0m       \u001b[0;32melse\u001b[0m\u001b[0;34m:\u001b[0m\u001b[0;34m\u001b[0m\u001b[0;34m\u001b[0m\u001b[0m\n\u001b[0;32m---> 94\u001b[0;31m         raise TypeError(f\"{k} is not a valid argument, kwargs should be empty \"\n\u001b[0m\u001b[1;32m     95\u001b[0m                         \" for `optimizer_experimental.Optimizer`.\")\n\u001b[1;32m     96\u001b[0m \u001b[0;34m\u001b[0m\u001b[0m\n",
      "\u001b[0;31mTypeError\u001b[0m: weight_decay is not a valid argument, kwargs should be empty  for `optimizer_experimental.Optimizer`."
     ]
    }
   ],
   "source": [
    "model_VGG = tf.keras.models.load_model('best_model_33.h5')\n",
    "model_DenseNet = tf.keras.models.load_model('best_model_densenet_43.h5')\n",
    "model_InceptionV3 = tf.keras.models.load_model('best_model_49.h5')\n"
   ]
  },
  {
   "cell_type": "code",
   "execution_count": 5,
   "id": "fde6dfcd-4cec-4c28-9ccc-175ef95f3d94",
   "metadata": {},
   "outputs": [],
   "source": [
    "\n",
    "\n",
    "resize_dim = (224, 224)\n",
    "\n",
    "def read_image(image_path):\n",
    "    image = cv2.imread(testing_dir+image_path)\n",
    "    img_resized = cv2.resize(image, resize_dim)\n",
    "    img_normalized = img_resized / 255.0\n",
    "    return img_normalized\n",
    "\n",
    "\n",
    "test_images_paths['pixel_array'] = test_images_paths['image_path'].apply(read_image)\n",
    "\n",
    "test_images = np.array(test_images_paths['pixel_array'].tolist())\n"
   ]
  },
  {
   "cell_type": "markdown",
   "id": "727cf199-888f-490b-b165-f6e1a3dc120c",
   "metadata": {},
   "source": [
    "## VGG Predicitons"
   ]
  },
  {
   "cell_type": "code",
   "execution_count": 6,
   "id": "b285ff13-d18f-436e-8e00-a81b9e94ab06",
   "metadata": {},
   "outputs": [
    {
     "name": "stderr",
     "output_type": "stream",
     "text": [
      "2023-12-14 13:38:09.189546: I tensorflow/compiler/xla/stream_executor/cuda/cuda_dnn.cc:428] Loaded cuDNN version 8401\n"
     ]
    },
    {
     "name": "stdout",
     "output_type": "stream",
     "text": [
      " 10/125 [=>............................] - ETA: 2s"
     ]
    },
    {
     "name": "stderr",
     "output_type": "stream",
     "text": [
      "2023-12-14 13:38:11.828585: I tensorflow/compiler/xla/stream_executor/cuda/cuda_blas.cc:630] TensorFloat-32 will be used for the matrix multiplication. This will only be logged once.\n"
     ]
    },
    {
     "name": "stdout",
     "output_type": "stream",
     "text": [
      "125/125 [==============================] - 8s 19ms/step\n"
     ]
    }
   ],
   "source": [
    "predictions = model_VGG.predict(test_images)"
   ]
  },
  {
   "cell_type": "code",
   "execution_count": 7,
   "id": "91870187-986c-4ea3-9dc3-cf2adf606121",
   "metadata": {},
   "outputs": [],
   "source": [
    "predicted_labels_vgg = np.argmax(predictions, axis=1)"
   ]
  },
  {
   "cell_type": "code",
   "execution_count": 8,
   "id": "d761a779-adfe-4a5b-9565-a4cf9f110268",
   "metadata": {},
   "outputs": [
    {
     "data": {
      "text/plain": [
       "array([ 69, 119,  74, ..., 102,  39, 118])"
      ]
     },
     "execution_count": 8,
     "metadata": {},
     "output_type": "execute_result"
    }
   ],
   "source": [
    "predicted_labels_vgg"
   ]
  },
  {
   "cell_type": "markdown",
   "id": "50dea7d3-f04e-4d9d-878c-0018478e095c",
   "metadata": {},
   "source": [
    "## Inception Predictions"
   ]
  },
  {
   "cell_type": "code",
   "execution_count": 9,
   "id": "af8dad94-4709-4edd-b962-05bea8118ff2",
   "metadata": {},
   "outputs": [
    {
     "name": "stdout",
     "output_type": "stream",
     "text": [
      "125/125 [==============================] - 4s 13ms/step\n"
     ]
    }
   ],
   "source": [
    "predictions = model_InceptionV3.predict(test_images)"
   ]
  },
  {
   "cell_type": "code",
   "execution_count": 10,
   "id": "aa5b021d-8a1d-4728-9270-529825e86b65",
   "metadata": {},
   "outputs": [],
   "source": [
    "predicted_labels_Inception = np.argmax(predictions, axis=1)"
   ]
  },
  {
   "cell_type": "code",
   "execution_count": 11,
   "id": "af1eb0d6-5d4a-4d26-9170-2b807b4e9593",
   "metadata": {},
   "outputs": [
    {
     "data": {
      "text/plain": [
       "array([ 67,  37,  74, ..., 135,  62, 111])"
      ]
     },
     "execution_count": 11,
     "metadata": {},
     "output_type": "execute_result"
    }
   ],
   "source": [
    "predicted_labels_Inception"
   ]
  },
  {
   "cell_type": "markdown",
   "id": "c96bdc7e-17db-4a36-97bc-7825c3a8b7ab",
   "metadata": {},
   "source": [
    "## DenseNet Predictions"
   ]
  },
  {
   "cell_type": "code",
   "execution_count": 12,
   "id": "c1035cc9-96b5-41b2-8262-2de1c192e4f1",
   "metadata": {},
   "outputs": [
    {
     "name": "stdout",
     "output_type": "stream",
     "text": [
      "125/125 [==============================] - 5s 19ms/step\n"
     ]
    }
   ],
   "source": [
    "predictions = model_DenseNet.predict(test_images)"
   ]
  },
  {
   "cell_type": "code",
   "execution_count": 13,
   "id": "b0fd4786-b840-44ac-8f87-e8923b5a73ba",
   "metadata": {},
   "outputs": [],
   "source": [
    "predicted_labels_DenseNet = np.argmax(predictions, axis=1)"
   ]
  },
  {
   "cell_type": "code",
   "execution_count": 14,
   "id": "565a15b9-9e68-436b-aeef-dca1edc2a1a3",
   "metadata": {},
   "outputs": [
    {
     "data": {
      "text/plain": [
       "array([ 69,  54,  74, ..., 135,  53, 111])"
      ]
     },
     "execution_count": 14,
     "metadata": {},
     "output_type": "execute_result"
    }
   ],
   "source": [
    "predicted_labels_DenseNet"
   ]
  },
  {
   "cell_type": "markdown",
   "id": "a0ebb8c2-477e-4b44-9e9c-1272a3b2a9a9",
   "metadata": {},
   "source": [
    "## ENSEMBLE"
   ]
  },
  {
   "cell_type": "code",
   "execution_count": 15,
   "id": "1ad80e8c-73bf-4511-bc38-b6e57be30899",
   "metadata": {},
   "outputs": [],
   "source": [
    "def ensemble(array1, array2, array3):\n",
    "    equal_positions = []\n",
    "\n",
    "    for i in range(len(array1)):\n",
    "        if array1[i] == array2[i]:\n",
    "            equal_positions.append(array1[i])\n",
    "        else:\n",
    "            equal_positions.append(array3[i])\n",
    "\n",
    "    return equal_positions\n",
    "\n",
    "\n",
    "\n",
    "ensembled_labels = ensemble(predicted_labels_DenseNet, predicted_labels_vgg,predicted_labels_Inception )\n"
   ]
  },
  {
   "cell_type": "code",
   "execution_count": 16,
   "id": "5de8280a-3101-4512-8731-9576d2b48b01",
   "metadata": {},
   "outputs": [],
   "source": [
    "ensembled_labels = np.array(ensembled_labels)"
   ]
  },
  {
   "cell_type": "code",
   "execution_count": 17,
   "id": "5b5a8eb7-1209-44f0-834e-c30daa09a4df",
   "metadata": {},
   "outputs": [
    {
     "data": {
      "text/plain": [
       "(4000,)"
      ]
     },
     "execution_count": 17,
     "metadata": {},
     "output_type": "execute_result"
    }
   ],
   "source": [
    "ensembled_labels.shape"
   ]
  },
  {
   "cell_type": "code",
   "execution_count": 18,
   "id": "29c4c23b-d26a-4e72-94f3-2ce548731046",
   "metadata": {},
   "outputs": [],
   "source": [
    "test_images_sample['label'] = ensembled_labels"
   ]
  },
  {
   "cell_type": "code",
   "execution_count": 19,
   "id": "028f18b0-9881-43b9-8b0b-d8ed697002ed",
   "metadata": {},
   "outputs": [
    {
     "name": "stdout",
     "output_type": "stream",
     "text": [
      "DataFrame has been saved to kaggle_file.csv\n"
     ]
    }
   ],
   "source": [
    "csv_file_path = 'kaggle_file.csv'\n",
    "\n",
    "test_images_sample.to_csv(csv_file_path, index=False)\n",
    "\n",
    "print(f'DataFrame has been saved to {csv_file_path}')"
   ]
  },
  {
   "cell_type": "code",
   "execution_count": null,
   "id": "50c4ebdf-884a-4f1e-bb18-cd2cf63068c3",
   "metadata": {},
   "outputs": [],
   "source": []
  },
  {
   "cell_type": "markdown",
   "id": "936b3d7f-0ce3-438f-97dc-95aa73ff6075",
   "metadata": {},
   "source": [
    "## Heat Map for predictions"
   ]
  },
  {
   "cell_type": "code",
   "execution_count": 1,
   "id": "721645f8-5407-49e0-9979-a3a040fa8e75",
   "metadata": {},
   "outputs": [
    {
     "ename": "IndentationError",
     "evalue": "expected an indented block after 'if' statement on line 29 (210063135.py, line 32)",
     "output_type": "error",
     "traceback": [
      "\u001b[0;36m  Cell \u001b[0;32mIn [1], line 32\u001b[0;36m\u001b[0m\n\u001b[0;31m    images_array = np.array(images)\u001b[0m\n\u001b[0m                                   ^\u001b[0m\n\u001b[0;31mIndentationError\u001b[0m\u001b[0;31m:\u001b[0m expected an indented block after 'if' statement on line 29\n"
     ]
    }
   ],
   "source": [
    "# This loads the training images from the balanced augmented training dir\n",
    "\n",
    "images = []\n",
    "labels = []\n",
    "\n",
    "resize_dim = (224, 224)\n",
    "\n",
    "# Iterate through subdirectories\n",
    "for subdir in range(1, 201):\n",
    "    subdir_path = os.path.join(training_dir, str(subdir))\n",
    "    counter = 0;\n",
    "    # Iterate through files in each subdirectory\n",
    "    for filename in os.listdir(subdir_path):\n",
    "        if filename.endswith(\".jpg\"):\n",
    "            \n",
    "            # Read images\n",
    "            image_path = os.path.join(subdir_path, filename)\n",
    "            img = cv2.imread(image_path)\n",
    "            \n",
    "            # Fix images\n",
    "            img_resized = cv2.resize(img, resize_dim)\n",
    "            img_normalized = img_resized / 255.0\n",
    "            \n",
    "            #Load images\n",
    "            images.append(img_normalized)\n",
    "            labels.append(subdir)\n",
    "            \n",
    "            counter += 1\n",
    "            if counter >= 3:\n",
    "                break;\n",
    "\n",
    "# Convert lists to numpy arrays\n",
    "images_array = np.array(images)\n",
    "labels_array = np.array(labels)"
   ]
  },
  {
   "cell_type": "code",
   "execution_count": null,
   "id": "fd572539-83af-4659-ac6e-6ac969f79651",
   "metadata": {},
   "outputs": [],
   "source": [
    "df = pd.DataFrame({'true_labels': array1, 'Column2': array2})"
   ]
  }
 ],
 "metadata": {
  "kernelspec": {
   "display_name": "Python 3 (ipykernel)",
   "language": "python",
   "name": "python3"
  },
  "language_info": {
   "codemirror_mode": {
    "name": "ipython",
    "version": 3
   },
   "file_extension": ".py",
   "mimetype": "text/x-python",
   "name": "python",
   "nbconvert_exporter": "python",
   "pygments_lexer": "ipython3",
   "version": "3.9.7"
  }
 },
 "nbformat": 4,
 "nbformat_minor": 5
}
